{
 "cells": [
  {
   "cell_type": "markdown",
   "metadata": {},
   "source": [
    "# Project: TMDB Movie Data Analysis\n",
    "\n",
    "## Table of Contents\n",
    "<ul>\n",
    "<li><a href=\"#intro\">Introduction</a></li>\n",
    "<li><a href=\"#wrangling\">Data Wrangling</a></li>\n",
    "<li><a href=\"#eda\">Exploratory Data Analysis</a></li>\n",
    "<li><a href=\"#conclusions\">Conclusions</a></li>\n",
    "<li><a href=\"#resources\">Resources</a></li>    \n",
    "</ul>"
   ]
  },
  {
   "cell_type": "markdown",
   "metadata": {},
   "source": [
    "<a id='intro'></a>\n",
    "## Introduction\n",
    "\n",
    "In this project we'll be analyzing data associated with movies released between 1960-2015. In particular we'll be interested in finding trends among several variables, by answering the following questions: \n",
    "\n",
    "    1.\tWhich genres receive the highest ratings?\n",
    "    2.\tDo movies with a longer runtime receive worse ratings than movies with a shorter runtime?\n",
    "    3.\tDo movies with higher budgets generally get better ratings than those with lower budgets?\n",
    "    4.\tWhat months do movies have the highest revenue?\n",
    "\n",
    "\n",
    "The dataset and documentation  can be found here: \n",
    "\n",
    "[Movie Data](https://d17h27t6h515a5.cloudfront.net/topher/2017/October/59dd1c4c_tmdb-movies/tmdb-movies.csv) \n",
    "\n",
    "[Documentation](https://www.kaggle.com/tmdb/tmdb-movie-metadata/kernels)"
   ]
  },
  {
   "cell_type": "markdown",
   "metadata": {},
   "source": [
    "### 1. Importing the required libraries for data analysis."
   ]
  },
  {
   "cell_type": "markdown",
   "metadata": {},
   "source": [
    "Below are the libraries we need for exploratory data analysis in this project"
   ]
  },
  {
   "cell_type": "code",
   "execution_count": 113,
   "metadata": {},
   "outputs": [],
   "source": [
    "import numpy as np\n",
    "import pandas as pd\n",
    "import matplotlib.pyplot as plt\n",
    "import seaborn as sns\n",
    "%matplotlib inline"
   ]
  },
  {
   "cell_type": "markdown",
   "metadata": {},
   "source": [
    "<a id='wrangling'></a>\n",
    "## Data Wrangling - gather, assess, and clean the data in preparation for data exploration"
   ]
  },
  {
   "cell_type": "markdown",
   "metadata": {},
   "source": [
    "## Gather & Assess:"
   ]
  },
  {
   "cell_type": "markdown",
   "metadata": {},
   "source": [
    "### 2.  Load the dataset and print a few rows to get an idea of the data in it."
   ]
  },
  {
   "cell_type": "code",
   "execution_count": 114,
   "metadata": {},
   "outputs": [
    {
     "data": {
      "text/html": [
       "<div>\n",
       "<style scoped>\n",
       "    .dataframe tbody tr th:only-of-type {\n",
       "        vertical-align: middle;\n",
       "    }\n",
       "\n",
       "    .dataframe tbody tr th {\n",
       "        vertical-align: top;\n",
       "    }\n",
       "\n",
       "    .dataframe thead th {\n",
       "        text-align: right;\n",
       "    }\n",
       "</style>\n",
       "<table border=\"1\" class=\"dataframe\">\n",
       "  <thead>\n",
       "    <tr style=\"text-align: right;\">\n",
       "      <th></th>\n",
       "      <th>id</th>\n",
       "      <th>imdb_id</th>\n",
       "      <th>popularity</th>\n",
       "      <th>budget</th>\n",
       "      <th>revenue</th>\n",
       "      <th>original_title</th>\n",
       "      <th>cast</th>\n",
       "      <th>homepage</th>\n",
       "      <th>director</th>\n",
       "      <th>tagline</th>\n",
       "      <th>...</th>\n",
       "      <th>overview</th>\n",
       "      <th>runtime</th>\n",
       "      <th>genres</th>\n",
       "      <th>production_companies</th>\n",
       "      <th>release_date</th>\n",
       "      <th>vote_count</th>\n",
       "      <th>vote_average</th>\n",
       "      <th>release_year</th>\n",
       "      <th>budget_adj</th>\n",
       "      <th>revenue_adj</th>\n",
       "    </tr>\n",
       "  </thead>\n",
       "  <tbody>\n",
       "    <tr>\n",
       "      <th>0</th>\n",
       "      <td>135397</td>\n",
       "      <td>tt0369610</td>\n",
       "      <td>32.99</td>\n",
       "      <td>150000000</td>\n",
       "      <td>1513528810</td>\n",
       "      <td>Jurassic World</td>\n",
       "      <td>Chris Pratt|Bryce Dallas Howard|Irrfan Khan|Vi...</td>\n",
       "      <td>http://www.jurassicworld.com/</td>\n",
       "      <td>Colin Trevorrow</td>\n",
       "      <td>The park is open.</td>\n",
       "      <td>...</td>\n",
       "      <td>Twenty-two years after the events of Jurassic ...</td>\n",
       "      <td>124</td>\n",
       "      <td>Action|Adventure|Science Fiction|Thriller</td>\n",
       "      <td>Universal Studios|Amblin Entertainment|Legenda...</td>\n",
       "      <td>6/9/2015</td>\n",
       "      <td>5562</td>\n",
       "      <td>6.50</td>\n",
       "      <td>2015</td>\n",
       "      <td>137999939.30</td>\n",
       "      <td>1392445893.00</td>\n",
       "    </tr>\n",
       "    <tr>\n",
       "      <th>1</th>\n",
       "      <td>76341</td>\n",
       "      <td>tt1392190</td>\n",
       "      <td>28.42</td>\n",
       "      <td>150000000</td>\n",
       "      <td>378436354</td>\n",
       "      <td>Mad Max: Fury Road</td>\n",
       "      <td>Tom Hardy|Charlize Theron|Hugh Keays-Byrne|Nic...</td>\n",
       "      <td>http://www.madmaxmovie.com/</td>\n",
       "      <td>George Miller</td>\n",
       "      <td>What a Lovely Day.</td>\n",
       "      <td>...</td>\n",
       "      <td>An apocalyptic story set in the furthest reach...</td>\n",
       "      <td>120</td>\n",
       "      <td>Action|Adventure|Science Fiction|Thriller</td>\n",
       "      <td>Village Roadshow Pictures|Kennedy Miller Produ...</td>\n",
       "      <td>5/13/2015</td>\n",
       "      <td>6185</td>\n",
       "      <td>7.10</td>\n",
       "      <td>2015</td>\n",
       "      <td>137999939.30</td>\n",
       "      <td>348161292.50</td>\n",
       "    </tr>\n",
       "    <tr>\n",
       "      <th>2</th>\n",
       "      <td>262500</td>\n",
       "      <td>tt2908446</td>\n",
       "      <td>13.11</td>\n",
       "      <td>110000000</td>\n",
       "      <td>295238201</td>\n",
       "      <td>Insurgent</td>\n",
       "      <td>Shailene Woodley|Theo James|Kate Winslet|Ansel...</td>\n",
       "      <td>http://www.thedivergentseries.movie/#insurgent</td>\n",
       "      <td>Robert Schwentke</td>\n",
       "      <td>One Choice Can Destroy You</td>\n",
       "      <td>...</td>\n",
       "      <td>Beatrice Prior must confront her inner demons ...</td>\n",
       "      <td>119</td>\n",
       "      <td>Adventure|Science Fiction|Thriller</td>\n",
       "      <td>Summit Entertainment|Mandeville Films|Red Wago...</td>\n",
       "      <td>3/18/2015</td>\n",
       "      <td>2480</td>\n",
       "      <td>6.30</td>\n",
       "      <td>2015</td>\n",
       "      <td>101199955.50</td>\n",
       "      <td>271619025.40</td>\n",
       "    </tr>\n",
       "  </tbody>\n",
       "</table>\n",
       "<p>3 rows × 21 columns</p>\n",
       "</div>"
      ],
      "text/plain": [
       "       id    imdb_id  popularity     budget     revenue      original_title  \\\n",
       "0  135397  tt0369610       32.99  150000000  1513528810      Jurassic World   \n",
       "1   76341  tt1392190       28.42  150000000   378436354  Mad Max: Fury Road   \n",
       "2  262500  tt2908446       13.11  110000000   295238201           Insurgent   \n",
       "\n",
       "                                                cast  \\\n",
       "0  Chris Pratt|Bryce Dallas Howard|Irrfan Khan|Vi...   \n",
       "1  Tom Hardy|Charlize Theron|Hugh Keays-Byrne|Nic...   \n",
       "2  Shailene Woodley|Theo James|Kate Winslet|Ansel...   \n",
       "\n",
       "                                         homepage          director  \\\n",
       "0                   http://www.jurassicworld.com/   Colin Trevorrow   \n",
       "1                     http://www.madmaxmovie.com/     George Miller   \n",
       "2  http://www.thedivergentseries.movie/#insurgent  Robert Schwentke   \n",
       "\n",
       "                      tagline  ...  \\\n",
       "0           The park is open.  ...   \n",
       "1          What a Lovely Day.  ...   \n",
       "2  One Choice Can Destroy You  ...   \n",
       "\n",
       "                                            overview runtime  \\\n",
       "0  Twenty-two years after the events of Jurassic ...     124   \n",
       "1  An apocalyptic story set in the furthest reach...     120   \n",
       "2  Beatrice Prior must confront her inner demons ...     119   \n",
       "\n",
       "                                      genres  \\\n",
       "0  Action|Adventure|Science Fiction|Thriller   \n",
       "1  Action|Adventure|Science Fiction|Thriller   \n",
       "2         Adventure|Science Fiction|Thriller   \n",
       "\n",
       "                                production_companies release_date vote_count  \\\n",
       "0  Universal Studios|Amblin Entertainment|Legenda...     6/9/2015       5562   \n",
       "1  Village Roadshow Pictures|Kennedy Miller Produ...    5/13/2015       6185   \n",
       "2  Summit Entertainment|Mandeville Films|Red Wago...    3/18/2015       2480   \n",
       "\n",
       "   vote_average  release_year   budget_adj   revenue_adj  \n",
       "0          6.50          2015 137999939.30 1392445893.00  \n",
       "1          7.10          2015 137999939.30  348161292.50  \n",
       "2          6.30          2015 101199955.50  271619025.40  \n",
       "\n",
       "[3 rows x 21 columns]"
      ]
     },
     "execution_count": 114,
     "metadata": {},
     "output_type": "execute_result"
    }
   ],
   "source": [
    "#load dataset\n",
    "df_movies = pd.read_csv('tmdb_movies.csv')\n",
    "#review the first 3 rows to see columns and data format\n",
    "df_movies.head(3)"
   ]
  },
  {
   "cell_type": "markdown",
   "metadata": {},
   "source": [
    "The numerical data will be discussed in the cells that follow, but most of the text columns will later be deleted, because they don't help us answer the questions we posed at the beginning. The exception is the genres column. As we can see by looking at the column data, movies are associated with multiple genres and separated by a | symbol. Because there can be many different combinations of genres, using the data as it's currently provided won't work for our analysis. Instead, we'll assume the first genre listed is the primary genre for each movie, and during the data cleaning process we'll separate the first genre listed in each row into a new column to use for aswering our question that uses this data. This will reduce the genres to a smaller set of specific genres for us to work with."
   ]
  },
  {
   "cell_type": "markdown",
   "metadata": {},
   "source": [
    "\n",
    "### 3: Here is a description of the 21 columns to make it clear what each one represents:\n",
    "\n",
    "| Column               | Description                                                                                                                                                                         |\n",
    "|----------------------|-------------------------------------------------------------------------------------------------------------------------------------------------------------------------------------|\n",
    "| id                   | unique identifier in tmdb for each movie                                                                                                                                                    |\n",
    "| imdb_id              | unique identifier in imdb for each movie                                                                                                                                            |\n",
    "| popularity           | [popularity of movie on the tmdb website](https://developers.themoviedb.org/3/getting-started/popularity) |\n",
    "| budget               | movie budget when it was released                                                                                                                                                   |\n",
    "| revenue              | movie revenue                                                                                                                                                                       |\n",
    "| original_title       | movie title                                                                                                                                                                         |\n",
    "| cast                 | movie cast                                                                                                                                                                          |\n",
    "| homepage             | movie website                                                                                                                                                                       |\n",
    "| director             | movie director                                                                                                                                                                      |\n",
    "| tagline              | movie catchphrase                                                                                                                                                                   |\n",
    "| overview             | overview of movie plot                                                                                                                                                              |\n",
    "| runtime              | movie length in minutes                                                                                                                                                             |\n",
    "| genres               | list of genres the movie is included in                                                                                                                                             |\n",
    "| production_companies | production companies for the movie                                                                                                                                                  |\n",
    "| release_date         | date the movie was released                                                                                                                                                         |\n",
    "| vote_count           | number of votes for the movie on tmdb                                                                                                                                               |\n",
    "| vote_average         | average movie rating between 1-10                                                                                                                                                   |\n",
    "| release_year         | year movie was released                                                                                                                                                             |\n",
    "| budget_adj           | adjusted budget in terms of 2010 dollars, accounting for inflation over time                                                                                                        |\n",
    "| revenue_adj          | adjusted revenue in terms of 2010 dollars, accounting for inflation over time                                                                                                       |"
   ]
  },
  {
   "cell_type": "markdown",
   "metadata": {},
   "source": [
    "### 4. The shape function shows how many rows and columns we're working with."
   ]
  },
  {
   "cell_type": "code",
   "execution_count": 115,
   "metadata": {},
   "outputs": [
    {
     "data": {
      "text/plain": [
       "(10866, 21)"
      ]
     },
     "execution_count": 115,
     "metadata": {},
     "output_type": "execute_result"
    }
   ],
   "source": [
    "df_movies.shape"
   ]
  },
  {
   "cell_type": "markdown",
   "metadata": {},
   "source": [
    "We're starting with 10,866 rows and 21 columns. "
   ]
  },
  {
   "cell_type": "markdown",
   "metadata": {},
   "source": [
    "### 5. Determine if there are duplicate rows and remove them so no movie data is used more than once for analysis. "
   ]
  },
  {
   "cell_type": "markdown",
   "metadata": {},
   "source": [
    "First we find out how many duplicated rows we have by using the duplicated and sum functions. During the cleaning process the row(s) will be deleted."
   ]
  },
  {
   "cell_type": "code",
   "execution_count": 116,
   "metadata": {},
   "outputs": [
    {
     "name": "stdout",
     "output_type": "stream",
     "text": [
      "The total number of duplicate rows to be deleted later: 1\n"
     ]
    }
   ],
   "source": [
    "duplicate_rows = df_movies.duplicated().sum().astype(str)\n",
    "print('The total number of duplicate rows to be deleted later: ' + duplicate_rows)"
   ]
  },
  {
   "cell_type": "markdown",
   "metadata": {},
   "source": [
    "Just one row will be deleted later"
   ]
  },
  {
   "cell_type": "markdown",
   "metadata": {},
   "source": [
    "### 6. Use the info() function to determine which columns are missing data, and whether column data types make sense. "
   ]
  },
  {
   "cell_type": "code",
   "execution_count": 117,
   "metadata": {},
   "outputs": [
    {
     "name": "stdout",
     "output_type": "stream",
     "text": [
      "<class 'pandas.core.frame.DataFrame'>\n",
      "RangeIndex: 10866 entries, 0 to 10865\n",
      "Data columns (total 21 columns):\n",
      "id                      10866 non-null int64\n",
      "imdb_id                 10856 non-null object\n",
      "popularity              10866 non-null float64\n",
      "budget                  10866 non-null int64\n",
      "revenue                 10866 non-null int64\n",
      "original_title          10866 non-null object\n",
      "cast                    10790 non-null object\n",
      "homepage                2936 non-null object\n",
      "director                10822 non-null object\n",
      "tagline                 8042 non-null object\n",
      "keywords                9373 non-null object\n",
      "overview                10862 non-null object\n",
      "runtime                 10866 non-null int64\n",
      "genres                  10843 non-null object\n",
      "production_companies    9836 non-null object\n",
      "release_date            10866 non-null object\n",
      "vote_count              10866 non-null int64\n",
      "vote_average            10866 non-null float64\n",
      "release_year            10866 non-null int64\n",
      "budget_adj              10866 non-null float64\n",
      "revenue_adj             10866 non-null float64\n",
      "dtypes: float64(4), int64(6), object(11)\n",
      "memory usage: 1.7+ MB\n"
     ]
    }
   ],
   "source": [
    "df_movies.info()"
   ]
  },
  {
   "cell_type": "markdown",
   "metadata": {},
   "source": [
    "To determine where we're missing data we look for any columns that don't have 10,866 rows. Below we can see that we're missing data in the columns: imdb_id, cast, homepage, director, taglne, keywords, overview, genres, production_companies. We won't need all of the columns to answer our questions, so some columns with missing data will be removed from our dataset. For the columns that remain, the rows with missing data will be deleted before answering our questions. \n",
    "\n",
    "The release_date column is currently a string (shown as object below). Later we'll change the column to the datetime data type, which we'll use to help answer one of our questions posed at the beginning."
   ]
  },
  {
   "cell_type": "markdown",
   "metadata": {},
   "source": [
    "### 7. The describe function gives us more insight, via descriptive statistics, about the numerical data in our dataset. "
   ]
  },
  {
   "cell_type": "code",
   "execution_count": 118,
   "metadata": {},
   "outputs": [
    {
     "data": {
      "text/html": [
       "<div>\n",
       "<style scoped>\n",
       "    .dataframe tbody tr th:only-of-type {\n",
       "        vertical-align: middle;\n",
       "    }\n",
       "\n",
       "    .dataframe tbody tr th {\n",
       "        vertical-align: top;\n",
       "    }\n",
       "\n",
       "    .dataframe thead th {\n",
       "        text-align: right;\n",
       "    }\n",
       "</style>\n",
       "<table border=\"1\" class=\"dataframe\">\n",
       "  <thead>\n",
       "    <tr style=\"text-align: right;\">\n",
       "      <th></th>\n",
       "      <th>id</th>\n",
       "      <th>popularity</th>\n",
       "      <th>budget</th>\n",
       "      <th>revenue</th>\n",
       "      <th>runtime</th>\n",
       "      <th>vote_count</th>\n",
       "      <th>vote_average</th>\n",
       "      <th>release_year</th>\n",
       "      <th>budget_adj</th>\n",
       "      <th>revenue_adj</th>\n",
       "    </tr>\n",
       "  </thead>\n",
       "  <tbody>\n",
       "    <tr>\n",
       "      <th>count</th>\n",
       "      <td>10866.00</td>\n",
       "      <td>10866.00</td>\n",
       "      <td>10866.00</td>\n",
       "      <td>10866.00</td>\n",
       "      <td>10866.00</td>\n",
       "      <td>10866.00</td>\n",
       "      <td>10866.00</td>\n",
       "      <td>10866.00</td>\n",
       "      <td>10866.00</td>\n",
       "      <td>10866.00</td>\n",
       "    </tr>\n",
       "    <tr>\n",
       "      <th>mean</th>\n",
       "      <td>66064.18</td>\n",
       "      <td>0.65</td>\n",
       "      <td>14625701.09</td>\n",
       "      <td>39823319.79</td>\n",
       "      <td>102.07</td>\n",
       "      <td>217.39</td>\n",
       "      <td>5.97</td>\n",
       "      <td>2001.32</td>\n",
       "      <td>17551039.82</td>\n",
       "      <td>51364363.25</td>\n",
       "    </tr>\n",
       "    <tr>\n",
       "      <th>std</th>\n",
       "      <td>92130.14</td>\n",
       "      <td>1.00</td>\n",
       "      <td>30913213.83</td>\n",
       "      <td>117003486.58</td>\n",
       "      <td>31.38</td>\n",
       "      <td>575.62</td>\n",
       "      <td>0.94</td>\n",
       "      <td>12.81</td>\n",
       "      <td>34306155.72</td>\n",
       "      <td>144632485.04</td>\n",
       "    </tr>\n",
       "    <tr>\n",
       "      <th>min</th>\n",
       "      <td>5.00</td>\n",
       "      <td>0.00</td>\n",
       "      <td>0.00</td>\n",
       "      <td>0.00</td>\n",
       "      <td>0.00</td>\n",
       "      <td>10.00</td>\n",
       "      <td>1.50</td>\n",
       "      <td>1960.00</td>\n",
       "      <td>0.00</td>\n",
       "      <td>0.00</td>\n",
       "    </tr>\n",
       "    <tr>\n",
       "      <th>25%</th>\n",
       "      <td>10596.25</td>\n",
       "      <td>0.21</td>\n",
       "      <td>0.00</td>\n",
       "      <td>0.00</td>\n",
       "      <td>90.00</td>\n",
       "      <td>17.00</td>\n",
       "      <td>5.40</td>\n",
       "      <td>1995.00</td>\n",
       "      <td>0.00</td>\n",
       "      <td>0.00</td>\n",
       "    </tr>\n",
       "    <tr>\n",
       "      <th>50%</th>\n",
       "      <td>20669.00</td>\n",
       "      <td>0.38</td>\n",
       "      <td>0.00</td>\n",
       "      <td>0.00</td>\n",
       "      <td>99.00</td>\n",
       "      <td>38.00</td>\n",
       "      <td>6.00</td>\n",
       "      <td>2006.00</td>\n",
       "      <td>0.00</td>\n",
       "      <td>0.00</td>\n",
       "    </tr>\n",
       "    <tr>\n",
       "      <th>75%</th>\n",
       "      <td>75610.00</td>\n",
       "      <td>0.71</td>\n",
       "      <td>15000000.00</td>\n",
       "      <td>24000000.00</td>\n",
       "      <td>111.00</td>\n",
       "      <td>145.75</td>\n",
       "      <td>6.60</td>\n",
       "      <td>2011.00</td>\n",
       "      <td>20853251.08</td>\n",
       "      <td>33697095.72</td>\n",
       "    </tr>\n",
       "    <tr>\n",
       "      <th>max</th>\n",
       "      <td>417859.00</td>\n",
       "      <td>32.99</td>\n",
       "      <td>425000000.00</td>\n",
       "      <td>2781505847.00</td>\n",
       "      <td>900.00</td>\n",
       "      <td>9767.00</td>\n",
       "      <td>9.20</td>\n",
       "      <td>2015.00</td>\n",
       "      <td>425000000.00</td>\n",
       "      <td>2827123750.00</td>\n",
       "    </tr>\n",
       "  </tbody>\n",
       "</table>\n",
       "</div>"
      ],
      "text/plain": [
       "             id  popularity       budget       revenue  runtime  vote_count  \\\n",
       "count  10866.00    10866.00     10866.00      10866.00 10866.00    10866.00   \n",
       "mean   66064.18        0.65  14625701.09   39823319.79   102.07      217.39   \n",
       "std    92130.14        1.00  30913213.83  117003486.58    31.38      575.62   \n",
       "min        5.00        0.00         0.00          0.00     0.00       10.00   \n",
       "25%    10596.25        0.21         0.00          0.00    90.00       17.00   \n",
       "50%    20669.00        0.38         0.00          0.00    99.00       38.00   \n",
       "75%    75610.00        0.71  15000000.00   24000000.00   111.00      145.75   \n",
       "max   417859.00       32.99 425000000.00 2781505847.00   900.00     9767.00   \n",
       "\n",
       "       vote_average  release_year   budget_adj   revenue_adj  \n",
       "count      10866.00      10866.00     10866.00      10866.00  \n",
       "mean           5.97       2001.32  17551039.82   51364363.25  \n",
       "std            0.94         12.81  34306155.72  144632485.04  \n",
       "min            1.50       1960.00         0.00          0.00  \n",
       "25%            5.40       1995.00         0.00          0.00  \n",
       "50%            6.00       2006.00         0.00          0.00  \n",
       "75%            6.60       2011.00  20853251.08   33697095.72  \n",
       "max            9.20       2015.00 425000000.00 2827123750.00  "
      ]
     },
     "execution_count": 118,
     "metadata": {},
     "output_type": "execute_result"
    }
   ],
   "source": [
    "df_movies.describe()"
   ]
  },
  {
   "cell_type": "markdown",
   "metadata": {},
   "source": [
    "Looking at this data, there are some issues we'll want to clean up either during the data cleaning process or while we're working to answer our questions later in the process. \n",
    "\n",
    "The data we'll take action on later includes: \n",
    "- budget and revenue data isn't in a format that makes it easy to see the actual dollar figures\n",
    "- budget and/or revenue data is zero for some of the data\n",
    "- runtime is zero for some of the data"
   ]
  },
  {
   "cell_type": "markdown",
   "metadata": {},
   "source": [
    "## Data Cleaning - For the data cleaning process, some of the issues identified during the above analysis will be resolved. \n",
    "- delete duplicate row\n",
    "- delete columns we don't need\n",
    "- format numerical columns\n",
    "- delete rows with missing data\n",
    "- change release_year format to datetime and extract the month to a new column\n",
    "- extract the first genre from the genres column for each row into a new column\n",
    "\n",
    "Other issues we identified will be handled during data exploration phase, such as rows where budgets and revenues are zero. The rows won't be deleted during the cleaning phase, because it would reduce the dataset by more than half, which would also remove other valueable data from other columns in the same rows. Instead, these rows will be excluded when answering questions that requre data from the budget and revenue columns.  "
   ]
  },
  {
   "cell_type": "markdown",
   "metadata": {},
   "source": [
    "### 8. Delete the duplicate row with the drop_duplicates() function, and confirm no duplicates remain."
   ]
  },
  {
   "cell_type": "code",
   "execution_count": 119,
   "metadata": {},
   "outputs": [],
   "source": [
    "#drop the duplicate row\n",
    "df_movies.drop_duplicates(inplace=True)"
   ]
  },
  {
   "cell_type": "code",
   "execution_count": 120,
   "metadata": {},
   "outputs": [
    {
     "name": "stdout",
     "output_type": "stream",
     "text": [
      "The total number of duplicate rows that remain are: 0\n"
     ]
    }
   ],
   "source": [
    "#confirm no duplicates remain\n",
    "print('The total number of duplicate rows that remain are: ' + df_movies.duplicated().sum().astype(str))"
   ]
  },
  {
   "cell_type": "markdown",
   "metadata": {},
   "source": [
    "### 9. Drop the columns not needed for analysis usin the drop() function."
   ]
  },
  {
   "cell_type": "markdown",
   "metadata": {},
   "source": [
    "Based on the questions we'll be answering, we can drop certain columns from our dataset:\n",
    "- id\n",
    "- imdb_id\n",
    "- popularity\n",
    "- cast\n",
    "- homepage\n",
    "- tagline\n",
    "- keywords\n",
    "- overview"
   ]
  },
  {
   "cell_type": "code",
   "execution_count": 121,
   "metadata": {},
   "outputs": [],
   "source": [
    "df_movies.drop(['id', 'imdb_id', 'popularity', 'cast', 'homepage', 'tagline', 'keywords', 'overview', 'director', 'production_companies'], axis=1, inplace=True)"
   ]
  },
  {
   "cell_type": "code",
   "execution_count": 122,
   "metadata": {},
   "outputs": [
    {
     "data": {
      "text/html": [
       "<div>\n",
       "<style scoped>\n",
       "    .dataframe tbody tr th:only-of-type {\n",
       "        vertical-align: middle;\n",
       "    }\n",
       "\n",
       "    .dataframe tbody tr th {\n",
       "        vertical-align: top;\n",
       "    }\n",
       "\n",
       "    .dataframe thead th {\n",
       "        text-align: right;\n",
       "    }\n",
       "</style>\n",
       "<table border=\"1\" class=\"dataframe\">\n",
       "  <thead>\n",
       "    <tr style=\"text-align: right;\">\n",
       "      <th></th>\n",
       "      <th>budget</th>\n",
       "      <th>revenue</th>\n",
       "      <th>original_title</th>\n",
       "      <th>runtime</th>\n",
       "      <th>genres</th>\n",
       "      <th>release_date</th>\n",
       "      <th>vote_count</th>\n",
       "      <th>vote_average</th>\n",
       "      <th>release_year</th>\n",
       "      <th>budget_adj</th>\n",
       "      <th>revenue_adj</th>\n",
       "    </tr>\n",
       "  </thead>\n",
       "  <tbody>\n",
       "    <tr>\n",
       "      <th>0</th>\n",
       "      <td>150000000</td>\n",
       "      <td>1513528810</td>\n",
       "      <td>Jurassic World</td>\n",
       "      <td>124</td>\n",
       "      <td>Action|Adventure|Science Fiction|Thriller</td>\n",
       "      <td>6/9/2015</td>\n",
       "      <td>5562</td>\n",
       "      <td>6.50</td>\n",
       "      <td>2015</td>\n",
       "      <td>137999939.30</td>\n",
       "      <td>1392445893.00</td>\n",
       "    </tr>\n",
       "  </tbody>\n",
       "</table>\n",
       "</div>"
      ],
      "text/plain": [
       "      budget     revenue  original_title  runtime  \\\n",
       "0  150000000  1513528810  Jurassic World      124   \n",
       "\n",
       "                                      genres release_date  vote_count  \\\n",
       "0  Action|Adventure|Science Fiction|Thriller     6/9/2015        5562   \n",
       "\n",
       "   vote_average  release_year   budget_adj   revenue_adj  \n",
       "0          6.50          2015 137999939.30 1392445893.00  "
      ]
     },
     "execution_count": 122,
     "metadata": {},
     "output_type": "execute_result"
    }
   ],
   "source": [
    "#confirm columns were dropped\n",
    "df_movies.head(1)"
   ]
  },
  {
   "cell_type": "markdown",
   "metadata": {},
   "source": [
    "### 10. Format numerical data using the options and display attributes to show actual value with two digits after the decimal."
   ]
  },
  {
   "cell_type": "code",
   "execution_count": 123,
   "metadata": {},
   "outputs": [],
   "source": [
    "pd.options.display.float_format = \"{:.2f}\".format"
   ]
  },
  {
   "cell_type": "code",
   "execution_count": 124,
   "metadata": {},
   "outputs": [
    {
     "data": {
      "text/html": [
       "<div>\n",
       "<style scoped>\n",
       "    .dataframe tbody tr th:only-of-type {\n",
       "        vertical-align: middle;\n",
       "    }\n",
       "\n",
       "    .dataframe tbody tr th {\n",
       "        vertical-align: top;\n",
       "    }\n",
       "\n",
       "    .dataframe thead th {\n",
       "        text-align: right;\n",
       "    }\n",
       "</style>\n",
       "<table border=\"1\" class=\"dataframe\">\n",
       "  <thead>\n",
       "    <tr style=\"text-align: right;\">\n",
       "      <th></th>\n",
       "      <th>budget</th>\n",
       "      <th>revenue</th>\n",
       "      <th>runtime</th>\n",
       "      <th>vote_count</th>\n",
       "      <th>vote_average</th>\n",
       "      <th>release_year</th>\n",
       "      <th>budget_adj</th>\n",
       "      <th>revenue_adj</th>\n",
       "    </tr>\n",
       "  </thead>\n",
       "  <tbody>\n",
       "    <tr>\n",
       "      <th>count</th>\n",
       "      <td>10865.00</td>\n",
       "      <td>10865.00</td>\n",
       "      <td>10865.00</td>\n",
       "      <td>10865.00</td>\n",
       "      <td>10865.00</td>\n",
       "      <td>10865.00</td>\n",
       "      <td>10865.00</td>\n",
       "      <td>10865.00</td>\n",
       "    </tr>\n",
       "    <tr>\n",
       "      <th>mean</th>\n",
       "      <td>14624286.06</td>\n",
       "      <td>39826896.08</td>\n",
       "      <td>102.07</td>\n",
       "      <td>217.40</td>\n",
       "      <td>5.98</td>\n",
       "      <td>2001.32</td>\n",
       "      <td>17549894.04</td>\n",
       "      <td>51369001.76</td>\n",
       "    </tr>\n",
       "    <tr>\n",
       "      <th>std</th>\n",
       "      <td>30914284.61</td>\n",
       "      <td>117008277.46</td>\n",
       "      <td>31.38</td>\n",
       "      <td>575.64</td>\n",
       "      <td>0.94</td>\n",
       "      <td>12.81</td>\n",
       "      <td>34307526.66</td>\n",
       "      <td>144638333.13</td>\n",
       "    </tr>\n",
       "    <tr>\n",
       "      <th>min</th>\n",
       "      <td>0.00</td>\n",
       "      <td>0.00</td>\n",
       "      <td>0.00</td>\n",
       "      <td>10.00</td>\n",
       "      <td>1.50</td>\n",
       "      <td>1960.00</td>\n",
       "      <td>0.00</td>\n",
       "      <td>0.00</td>\n",
       "    </tr>\n",
       "    <tr>\n",
       "      <th>25%</th>\n",
       "      <td>0.00</td>\n",
       "      <td>0.00</td>\n",
       "      <td>90.00</td>\n",
       "      <td>17.00</td>\n",
       "      <td>5.40</td>\n",
       "      <td>1995.00</td>\n",
       "      <td>0.00</td>\n",
       "      <td>0.00</td>\n",
       "    </tr>\n",
       "    <tr>\n",
       "      <th>50%</th>\n",
       "      <td>0.00</td>\n",
       "      <td>0.00</td>\n",
       "      <td>99.00</td>\n",
       "      <td>38.00</td>\n",
       "      <td>6.00</td>\n",
       "      <td>2006.00</td>\n",
       "      <td>0.00</td>\n",
       "      <td>0.00</td>\n",
       "    </tr>\n",
       "    <tr>\n",
       "      <th>75%</th>\n",
       "      <td>15000000.00</td>\n",
       "      <td>24000000.00</td>\n",
       "      <td>111.00</td>\n",
       "      <td>146.00</td>\n",
       "      <td>6.60</td>\n",
       "      <td>2011.00</td>\n",
       "      <td>20853251.08</td>\n",
       "      <td>33701729.01</td>\n",
       "    </tr>\n",
       "    <tr>\n",
       "      <th>max</th>\n",
       "      <td>425000000.00</td>\n",
       "      <td>2781505847.00</td>\n",
       "      <td>900.00</td>\n",
       "      <td>9767.00</td>\n",
       "      <td>9.20</td>\n",
       "      <td>2015.00</td>\n",
       "      <td>425000000.00</td>\n",
       "      <td>2827123750.00</td>\n",
       "    </tr>\n",
       "  </tbody>\n",
       "</table>\n",
       "</div>"
      ],
      "text/plain": [
       "            budget       revenue  runtime  vote_count  vote_average  \\\n",
       "count     10865.00      10865.00 10865.00    10865.00      10865.00   \n",
       "mean   14624286.06   39826896.08   102.07      217.40          5.98   \n",
       "std    30914284.61  117008277.46    31.38      575.64          0.94   \n",
       "min           0.00          0.00     0.00       10.00          1.50   \n",
       "25%           0.00          0.00    90.00       17.00          5.40   \n",
       "50%           0.00          0.00    99.00       38.00          6.00   \n",
       "75%    15000000.00   24000000.00   111.00      146.00          6.60   \n",
       "max   425000000.00 2781505847.00   900.00     9767.00          9.20   \n",
       "\n",
       "       release_year   budget_adj   revenue_adj  \n",
       "count      10865.00     10865.00      10865.00  \n",
       "mean        2001.32  17549894.04   51369001.76  \n",
       "std           12.81  34307526.66  144638333.13  \n",
       "min         1960.00         0.00          0.00  \n",
       "25%         1995.00         0.00          0.00  \n",
       "50%         2006.00         0.00          0.00  \n",
       "75%         2011.00  20853251.08   33701729.01  \n",
       "max         2015.00 425000000.00 2827123750.00  "
      ]
     },
     "execution_count": 124,
     "metadata": {},
     "output_type": "execute_result"
    }
   ],
   "source": [
    "#confirm formatting is now as expected\n",
    "df_movies.describe()"
   ]
  },
  {
   "cell_type": "code",
   "execution_count": 125,
   "metadata": {},
   "outputs": [
    {
     "data": {
      "text/html": [
       "<div>\n",
       "<style scoped>\n",
       "    .dataframe tbody tr th:only-of-type {\n",
       "        vertical-align: middle;\n",
       "    }\n",
       "\n",
       "    .dataframe tbody tr th {\n",
       "        vertical-align: top;\n",
       "    }\n",
       "\n",
       "    .dataframe thead th {\n",
       "        text-align: right;\n",
       "    }\n",
       "</style>\n",
       "<table border=\"1\" class=\"dataframe\">\n",
       "  <thead>\n",
       "    <tr style=\"text-align: right;\">\n",
       "      <th></th>\n",
       "      <th>budget</th>\n",
       "      <th>revenue</th>\n",
       "      <th>original_title</th>\n",
       "      <th>runtime</th>\n",
       "      <th>genres</th>\n",
       "      <th>release_date</th>\n",
       "      <th>vote_count</th>\n",
       "      <th>vote_average</th>\n",
       "      <th>release_year</th>\n",
       "      <th>budget_adj</th>\n",
       "      <th>revenue_adj</th>\n",
       "    </tr>\n",
       "  </thead>\n",
       "  <tbody>\n",
       "    <tr>\n",
       "      <th>0</th>\n",
       "      <td>150000000</td>\n",
       "      <td>1513528810</td>\n",
       "      <td>Jurassic World</td>\n",
       "      <td>124</td>\n",
       "      <td>Action|Adventure|Science Fiction|Thriller</td>\n",
       "      <td>6/9/2015</td>\n",
       "      <td>5562</td>\n",
       "      <td>6.50</td>\n",
       "      <td>2015</td>\n",
       "      <td>137999939.30</td>\n",
       "      <td>1392445893.00</td>\n",
       "    </tr>\n",
       "  </tbody>\n",
       "</table>\n",
       "</div>"
      ],
      "text/plain": [
       "      budget     revenue  original_title  runtime  \\\n",
       "0  150000000  1513528810  Jurassic World      124   \n",
       "\n",
       "                                      genres release_date  vote_count  \\\n",
       "0  Action|Adventure|Science Fiction|Thriller     6/9/2015        5562   \n",
       "\n",
       "   vote_average  release_year   budget_adj   revenue_adj  \n",
       "0          6.50          2015 137999939.30 1392445893.00  "
      ]
     },
     "execution_count": 125,
     "metadata": {},
     "output_type": "execute_result"
    }
   ],
   "source": [
    "#confirm the columns have been dropped\n",
    "df_movies.head(1)"
   ]
  },
  {
   "cell_type": "markdown",
   "metadata": {},
   "source": [
    "### 11. Delete rows with missing data using the dropna() function."
   ]
  },
  {
   "cell_type": "markdown",
   "metadata": {},
   "source": [
    "Now that we've deleted some columns, we'll re-run the info() function to see if we still have columns with missing data."
   ]
  },
  {
   "cell_type": "code",
   "execution_count": 126,
   "metadata": {},
   "outputs": [
    {
     "name": "stdout",
     "output_type": "stream",
     "text": [
      "<class 'pandas.core.frame.DataFrame'>\n",
      "Int64Index: 10865 entries, 0 to 10865\n",
      "Data columns (total 11 columns):\n",
      "budget            10865 non-null int64\n",
      "revenue           10865 non-null int64\n",
      "original_title    10865 non-null object\n",
      "runtime           10865 non-null int64\n",
      "genres            10842 non-null object\n",
      "release_date      10865 non-null object\n",
      "vote_count        10865 non-null int64\n",
      "vote_average      10865 non-null float64\n",
      "release_year      10865 non-null int64\n",
      "budget_adj        10865 non-null float64\n",
      "revenue_adj       10865 non-null float64\n",
      "dtypes: float64(3), int64(5), object(3)\n",
      "memory usage: 1018.6+ KB\n"
     ]
    }
   ],
   "source": [
    "df_movies.info()"
   ]
  },
  {
   "cell_type": "markdown",
   "metadata": {},
   "source": [
    "The genres column is the only column remaining that has missing rows (23 of them). Let's look at these rows with null values, to confirm it is fine to drop them."
   ]
  },
  {
   "cell_type": "code",
   "execution_count": 127,
   "metadata": {},
   "outputs": [
    {
     "data": {
      "text/html": [
       "<div>\n",
       "<style scoped>\n",
       "    .dataframe tbody tr th:only-of-type {\n",
       "        vertical-align: middle;\n",
       "    }\n",
       "\n",
       "    .dataframe tbody tr th {\n",
       "        vertical-align: top;\n",
       "    }\n",
       "\n",
       "    .dataframe thead th {\n",
       "        text-align: right;\n",
       "    }\n",
       "</style>\n",
       "<table border=\"1\" class=\"dataframe\">\n",
       "  <thead>\n",
       "    <tr style=\"text-align: right;\">\n",
       "      <th></th>\n",
       "      <th>budget</th>\n",
       "      <th>revenue</th>\n",
       "      <th>original_title</th>\n",
       "      <th>runtime</th>\n",
       "      <th>genres</th>\n",
       "      <th>release_date</th>\n",
       "      <th>vote_count</th>\n",
       "      <th>vote_average</th>\n",
       "      <th>release_year</th>\n",
       "      <th>budget_adj</th>\n",
       "      <th>revenue_adj</th>\n",
       "    </tr>\n",
       "  </thead>\n",
       "  <tbody>\n",
       "    <tr>\n",
       "      <th>424</th>\n",
       "      <td>0</td>\n",
       "      <td>0</td>\n",
       "      <td>Belli di papÃ</td>\n",
       "      <td>100</td>\n",
       "      <td>NaN</td>\n",
       "      <td>10/29/2015</td>\n",
       "      <td>21</td>\n",
       "      <td>6.10</td>\n",
       "      <td>2015</td>\n",
       "      <td>0.00</td>\n",
       "      <td>0.00</td>\n",
       "    </tr>\n",
       "    <tr>\n",
       "      <th>620</th>\n",
       "      <td>0</td>\n",
       "      <td>0</td>\n",
       "      <td>All Hallows' Eve 2</td>\n",
       "      <td>90</td>\n",
       "      <td>NaN</td>\n",
       "      <td>10/6/2015</td>\n",
       "      <td>13</td>\n",
       "      <td>5.00</td>\n",
       "      <td>2015</td>\n",
       "      <td>0.00</td>\n",
       "      <td>0.00</td>\n",
       "    </tr>\n",
       "    <tr>\n",
       "      <th>997</th>\n",
       "      <td>0</td>\n",
       "      <td>0</td>\n",
       "      <td>Star Wars Rebels: Spark of Rebellion</td>\n",
       "      <td>44</td>\n",
       "      <td>NaN</td>\n",
       "      <td>10/3/2014</td>\n",
       "      <td>13</td>\n",
       "      <td>6.80</td>\n",
       "      <td>2014</td>\n",
       "      <td>0.00</td>\n",
       "      <td>0.00</td>\n",
       "    </tr>\n",
       "    <tr>\n",
       "      <th>1712</th>\n",
       "      <td>0</td>\n",
       "      <td>0</td>\n",
       "      <td>Prayers for Bobby</td>\n",
       "      <td>88</td>\n",
       "      <td>NaN</td>\n",
       "      <td>2/27/2009</td>\n",
       "      <td>57</td>\n",
       "      <td>7.40</td>\n",
       "      <td>2009</td>\n",
       "      <td>0.00</td>\n",
       "      <td>0.00</td>\n",
       "    </tr>\n",
       "    <tr>\n",
       "      <th>1897</th>\n",
       "      <td>0</td>\n",
       "      <td>0</td>\n",
       "      <td>Jonas Brothers: The Concert Experience</td>\n",
       "      <td>76</td>\n",
       "      <td>NaN</td>\n",
       "      <td>2/27/2009</td>\n",
       "      <td>11</td>\n",
       "      <td>7.00</td>\n",
       "      <td>2009</td>\n",
       "      <td>0.00</td>\n",
       "      <td>0.00</td>\n",
       "    </tr>\n",
       "    <tr>\n",
       "      <th>2370</th>\n",
       "      <td>0</td>\n",
       "      <td>0</td>\n",
       "      <td>Freshman Father</td>\n",
       "      <td>0</td>\n",
       "      <td>NaN</td>\n",
       "      <td>6/5/2010</td>\n",
       "      <td>12</td>\n",
       "      <td>5.80</td>\n",
       "      <td>2010</td>\n",
       "      <td>0.00</td>\n",
       "      <td>0.00</td>\n",
       "    </tr>\n",
       "    <tr>\n",
       "      <th>2376</th>\n",
       "      <td>0</td>\n",
       "      <td>0</td>\n",
       "      <td>Doctor Who: A Christmas Carol</td>\n",
       "      <td>62</td>\n",
       "      <td>NaN</td>\n",
       "      <td>12/25/2010</td>\n",
       "      <td>11</td>\n",
       "      <td>7.70</td>\n",
       "      <td>2010</td>\n",
       "      <td>0.00</td>\n",
       "      <td>0.00</td>\n",
       "    </tr>\n",
       "    <tr>\n",
       "      <th>2853</th>\n",
       "      <td>0</td>\n",
       "      <td>0</td>\n",
       "      <td>Vizontele</td>\n",
       "      <td>110</td>\n",
       "      <td>NaN</td>\n",
       "      <td>2/2/2001</td>\n",
       "      <td>12</td>\n",
       "      <td>7.20</td>\n",
       "      <td>2001</td>\n",
       "      <td>0.00</td>\n",
       "      <td>0.00</td>\n",
       "    </tr>\n",
       "    <tr>\n",
       "      <th>3279</th>\n",
       "      <td>0</td>\n",
       "      <td>0</td>\n",
       "      <td>ì•„ê¸°ì™€ ë‚˜</td>\n",
       "      <td>96</td>\n",
       "      <td>NaN</td>\n",
       "      <td>8/13/2008</td>\n",
       "      <td>11</td>\n",
       "      <td>6.10</td>\n",
       "      <td>2008</td>\n",
       "      <td>0.00</td>\n",
       "      <td>0.00</td>\n",
       "    </tr>\n",
       "    <tr>\n",
       "      <th>4547</th>\n",
       "      <td>0</td>\n",
       "      <td>0</td>\n",
       "      <td>London 2012 Olympic Opening Ceremony: Isles of...</td>\n",
       "      <td>220</td>\n",
       "      <td>NaN</td>\n",
       "      <td>7/27/2012</td>\n",
       "      <td>12</td>\n",
       "      <td>8.30</td>\n",
       "      <td>2012</td>\n",
       "      <td>0.00</td>\n",
       "      <td>0.00</td>\n",
       "    </tr>\n",
       "    <tr>\n",
       "      <th>4732</th>\n",
       "      <td>0</td>\n",
       "      <td>0</td>\n",
       "      <td>The Scapegoat</td>\n",
       "      <td>100</td>\n",
       "      <td>NaN</td>\n",
       "      <td>9/9/2012</td>\n",
       "      <td>12</td>\n",
       "      <td>6.20</td>\n",
       "      <td>2012</td>\n",
       "      <td>0.00</td>\n",
       "      <td>0.00</td>\n",
       "    </tr>\n",
       "    <tr>\n",
       "      <th>4797</th>\n",
       "      <td>0</td>\n",
       "      <td>0</td>\n",
       "      <td>Doctor Who: The Snowmen</td>\n",
       "      <td>60</td>\n",
       "      <td>NaN</td>\n",
       "      <td>12/25/2012</td>\n",
       "      <td>10</td>\n",
       "      <td>7.80</td>\n",
       "      <td>2012</td>\n",
       "      <td>0.00</td>\n",
       "      <td>0.00</td>\n",
       "    </tr>\n",
       "    <tr>\n",
       "      <th>4890</th>\n",
       "      <td>0</td>\n",
       "      <td>0</td>\n",
       "      <td>Cousin Ben Troop Screening</td>\n",
       "      <td>2</td>\n",
       "      <td>NaN</td>\n",
       "      <td>1/1/2012</td>\n",
       "      <td>14</td>\n",
       "      <td>7.00</td>\n",
       "      <td>2012</td>\n",
       "      <td>0.00</td>\n",
       "      <td>0.00</td>\n",
       "    </tr>\n",
       "    <tr>\n",
       "      <th>5830</th>\n",
       "      <td>0</td>\n",
       "      <td>0</td>\n",
       "      <td>Doctor Who: The Time of the Doctor</td>\n",
       "      <td>60</td>\n",
       "      <td>NaN</td>\n",
       "      <td>12/25/2013</td>\n",
       "      <td>26</td>\n",
       "      <td>8.50</td>\n",
       "      <td>2013</td>\n",
       "      <td>0.00</td>\n",
       "      <td>0.00</td>\n",
       "    </tr>\n",
       "    <tr>\n",
       "      <th>5934</th>\n",
       "      <td>0</td>\n",
       "      <td>0</td>\n",
       "      <td>Prada: Candy</td>\n",
       "      <td>3</td>\n",
       "      <td>NaN</td>\n",
       "      <td>3/25/2013</td>\n",
       "      <td>27</td>\n",
       "      <td>6.90</td>\n",
       "      <td>2013</td>\n",
       "      <td>0.00</td>\n",
       "      <td>0.00</td>\n",
       "    </tr>\n",
       "    <tr>\n",
       "      <th>6043</th>\n",
       "      <td>0</td>\n",
       "      <td>0</td>\n",
       "      <td>Bombay Talkies</td>\n",
       "      <td>127</td>\n",
       "      <td>NaN</td>\n",
       "      <td>5/3/2013</td>\n",
       "      <td>12</td>\n",
       "      <td>5.90</td>\n",
       "      <td>2013</td>\n",
       "      <td>0.00</td>\n",
       "      <td>0.00</td>\n",
       "    </tr>\n",
       "    <tr>\n",
       "      <th>6530</th>\n",
       "      <td>0</td>\n",
       "      <td>0</td>\n",
       "      <td>Saw Rebirth</td>\n",
       "      <td>6</td>\n",
       "      <td>NaN</td>\n",
       "      <td>10/24/2005</td>\n",
       "      <td>24</td>\n",
       "      <td>5.90</td>\n",
       "      <td>2005</td>\n",
       "      <td>0.00</td>\n",
       "      <td>0.00</td>\n",
       "    </tr>\n",
       "    <tr>\n",
       "      <th>8234</th>\n",
       "      <td>0</td>\n",
       "      <td>0</td>\n",
       "      <td>Viaggi di nozze</td>\n",
       "      <td>103</td>\n",
       "      <td>NaN</td>\n",
       "      <td>12/15/1995</td>\n",
       "      <td>44</td>\n",
       "      <td>6.70</td>\n",
       "      <td>1995</td>\n",
       "      <td>0.00</td>\n",
       "      <td>0.00</td>\n",
       "    </tr>\n",
       "    <tr>\n",
       "      <th>8614</th>\n",
       "      <td>0</td>\n",
       "      <td>0</td>\n",
       "      <td>T2 3-D: Battle Across Time</td>\n",
       "      <td>12</td>\n",
       "      <td>NaN</td>\n",
       "      <td>1/1/1996</td>\n",
       "      <td>14</td>\n",
       "      <td>6.70</td>\n",
       "      <td>1996</td>\n",
       "      <td>0.00</td>\n",
       "      <td>0.00</td>\n",
       "    </tr>\n",
       "    <tr>\n",
       "      <th>8878</th>\n",
       "      <td>0</td>\n",
       "      <td>0</td>\n",
       "      <td>Mom's Got a Date With a Vampire</td>\n",
       "      <td>85</td>\n",
       "      <td>NaN</td>\n",
       "      <td>10/13/2000</td>\n",
       "      <td>16</td>\n",
       "      <td>5.40</td>\n",
       "      <td>2000</td>\n",
       "      <td>0.00</td>\n",
       "      <td>0.00</td>\n",
       "    </tr>\n",
       "    <tr>\n",
       "      <th>9307</th>\n",
       "      <td>0</td>\n",
       "      <td>0</td>\n",
       "      <td>Goldeneye</td>\n",
       "      <td>105</td>\n",
       "      <td>NaN</td>\n",
       "      <td>8/26/1989</td>\n",
       "      <td>10</td>\n",
       "      <td>5.30</td>\n",
       "      <td>1989</td>\n",
       "      <td>0.00</td>\n",
       "      <td>0.00</td>\n",
       "    </tr>\n",
       "    <tr>\n",
       "      <th>9799</th>\n",
       "      <td>0</td>\n",
       "      <td>0</td>\n",
       "      <td>The Amputee</td>\n",
       "      <td>5</td>\n",
       "      <td>NaN</td>\n",
       "      <td>1/1/1974</td>\n",
       "      <td>11</td>\n",
       "      <td>5.00</td>\n",
       "      <td>1974</td>\n",
       "      <td>0.00</td>\n",
       "      <td>0.00</td>\n",
       "    </tr>\n",
       "    <tr>\n",
       "      <th>10659</th>\n",
       "      <td>5000</td>\n",
       "      <td>0</td>\n",
       "      <td>The Party at Kitty and Stud's</td>\n",
       "      <td>71</td>\n",
       "      <td>NaN</td>\n",
       "      <td>2/10/1970</td>\n",
       "      <td>10</td>\n",
       "      <td>3.00</td>\n",
       "      <td>1970</td>\n",
       "      <td>28081.84</td>\n",
       "      <td>0.00</td>\n",
       "    </tr>\n",
       "  </tbody>\n",
       "</table>\n",
       "</div>"
      ],
      "text/plain": [
       "       budget  revenue                                     original_title  \\\n",
       "424         0        0                                     Belli di papÃ    \n",
       "620         0        0                                 All Hallows' Eve 2   \n",
       "997         0        0               Star Wars Rebels: Spark of Rebellion   \n",
       "1712        0        0                                  Prayers for Bobby   \n",
       "1897        0        0             Jonas Brothers: The Concert Experience   \n",
       "2370        0        0                                    Freshman Father   \n",
       "2376        0        0                      Doctor Who: A Christmas Carol   \n",
       "2853        0        0                                          Vizontele   \n",
       "3279        0        0                                      ì•„ê¸°ì™€ ë‚˜   \n",
       "4547        0        0  London 2012 Olympic Opening Ceremony: Isles of...   \n",
       "4732        0        0                                      The Scapegoat   \n",
       "4797        0        0                            Doctor Who: The Snowmen   \n",
       "4890        0        0                         Cousin Ben Troop Screening   \n",
       "5830        0        0                 Doctor Who: The Time of the Doctor   \n",
       "5934        0        0                                       Prada: Candy   \n",
       "6043        0        0                                     Bombay Talkies   \n",
       "6530        0        0                                        Saw Rebirth   \n",
       "8234        0        0                                    Viaggi di nozze   \n",
       "8614        0        0                         T2 3-D: Battle Across Time   \n",
       "8878        0        0                    Mom's Got a Date With a Vampire   \n",
       "9307        0        0                                          Goldeneye   \n",
       "9799        0        0                                        The Amputee   \n",
       "10659    5000        0                      The Party at Kitty and Stud's   \n",
       "\n",
       "       runtime genres release_date  vote_count  vote_average  release_year  \\\n",
       "424        100    NaN   10/29/2015          21          6.10          2015   \n",
       "620         90    NaN    10/6/2015          13          5.00          2015   \n",
       "997         44    NaN    10/3/2014          13          6.80          2014   \n",
       "1712        88    NaN    2/27/2009          57          7.40          2009   \n",
       "1897        76    NaN    2/27/2009          11          7.00          2009   \n",
       "2370         0    NaN     6/5/2010          12          5.80          2010   \n",
       "2376        62    NaN   12/25/2010          11          7.70          2010   \n",
       "2853       110    NaN     2/2/2001          12          7.20          2001   \n",
       "3279        96    NaN    8/13/2008          11          6.10          2008   \n",
       "4547       220    NaN    7/27/2012          12          8.30          2012   \n",
       "4732       100    NaN     9/9/2012          12          6.20          2012   \n",
       "4797        60    NaN   12/25/2012          10          7.80          2012   \n",
       "4890         2    NaN     1/1/2012          14          7.00          2012   \n",
       "5830        60    NaN   12/25/2013          26          8.50          2013   \n",
       "5934         3    NaN    3/25/2013          27          6.90          2013   \n",
       "6043       127    NaN     5/3/2013          12          5.90          2013   \n",
       "6530         6    NaN   10/24/2005          24          5.90          2005   \n",
       "8234       103    NaN   12/15/1995          44          6.70          1995   \n",
       "8614        12    NaN     1/1/1996          14          6.70          1996   \n",
       "8878        85    NaN   10/13/2000          16          5.40          2000   \n",
       "9307       105    NaN    8/26/1989          10          5.30          1989   \n",
       "9799         5    NaN     1/1/1974          11          5.00          1974   \n",
       "10659       71    NaN    2/10/1970          10          3.00          1970   \n",
       "\n",
       "       budget_adj  revenue_adj  \n",
       "424          0.00         0.00  \n",
       "620          0.00         0.00  \n",
       "997          0.00         0.00  \n",
       "1712         0.00         0.00  \n",
       "1897         0.00         0.00  \n",
       "2370         0.00         0.00  \n",
       "2376         0.00         0.00  \n",
       "2853         0.00         0.00  \n",
       "3279         0.00         0.00  \n",
       "4547         0.00         0.00  \n",
       "4732         0.00         0.00  \n",
       "4797         0.00         0.00  \n",
       "4890         0.00         0.00  \n",
       "5830         0.00         0.00  \n",
       "5934         0.00         0.00  \n",
       "6043         0.00         0.00  \n",
       "6530         0.00         0.00  \n",
       "8234         0.00         0.00  \n",
       "8614         0.00         0.00  \n",
       "8878         0.00         0.00  \n",
       "9307         0.00         0.00  \n",
       "9799         0.00         0.00  \n",
       "10659    28081.84         0.00  "
      ]
     },
     "execution_count": 127,
     "metadata": {},
     "output_type": "execute_result"
    }
   ],
   "source": [
    "df_movies[df_movies['genres'].isnull()]"
   ]
  },
  {
   "cell_type": "markdown",
   "metadata": {},
   "source": [
    "These rows have low vote counts, and no revenue or budget information, so they can be removed without having much affect on our analysis. "
   ]
  },
  {
   "cell_type": "code",
   "execution_count": 128,
   "metadata": {},
   "outputs": [],
   "source": [
    "#drop rows with missing values\n",
    "df_movies.dropna(inplace=True)"
   ]
  },
  {
   "cell_type": "code",
   "execution_count": 129,
   "metadata": {},
   "outputs": [
    {
     "name": "stdout",
     "output_type": "stream",
     "text": [
      "<class 'pandas.core.frame.DataFrame'>\n",
      "Int64Index: 10842 entries, 0 to 10865\n",
      "Data columns (total 11 columns):\n",
      "budget            10842 non-null int64\n",
      "revenue           10842 non-null int64\n",
      "original_title    10842 non-null object\n",
      "runtime           10842 non-null int64\n",
      "genres            10842 non-null object\n",
      "release_date      10842 non-null object\n",
      "vote_count        10842 non-null int64\n",
      "vote_average      10842 non-null float64\n",
      "release_year      10842 non-null int64\n",
      "budget_adj        10842 non-null float64\n",
      "revenue_adj       10842 non-null float64\n",
      "dtypes: float64(3), int64(5), object(3)\n",
      "memory usage: 1016.4+ KB\n"
     ]
    }
   ],
   "source": [
    "#confirm missing values dropped\n",
    "df_movies.info()"
   ]
  },
  {
   "cell_type": "markdown",
   "metadata": {},
   "source": [
    "Now all columns have 10,842 rows."
   ]
  },
  {
   "cell_type": "markdown",
   "metadata": {},
   "source": [
    "### 12. Change the data type of the release_date column to a timestamp using the to_datetime() function and create a new column with only the month."
   ]
  },
  {
   "cell_type": "markdown",
   "metadata": {},
   "source": [
    "To answer one of our questions, we need the release_month of each movie. While we could keep the date as a string and extract the value we need, I want to show how this can be done with the datetime functionality."
   ]
  },
  {
   "cell_type": "code",
   "execution_count": 130,
   "metadata": {},
   "outputs": [],
   "source": [
    "#convert release_date column to Timestamp\n",
    "df_movies['release_date'] = pd.to_datetime(df_movies['release_date'])"
   ]
  },
  {
   "cell_type": "code",
   "execution_count": 131,
   "metadata": {},
   "outputs": [
    {
     "data": {
      "text/plain": [
       "pandas._libs.tslibs.timestamps.Timestamp"
      ]
     },
     "execution_count": 131,
     "metadata": {},
     "output_type": "execute_result"
    }
   ],
   "source": [
    "#confirm change to timestamp\n",
    "type(df_movies['release_date'][0])"
   ]
  },
  {
   "cell_type": "code",
   "execution_count": 132,
   "metadata": {},
   "outputs": [],
   "source": [
    "#create release_month column and assign months to it\n",
    "df_movies['release_month'] =  df_movies['release_date'].dt.month"
   ]
  },
  {
   "cell_type": "code",
   "execution_count": 133,
   "metadata": {},
   "outputs": [
    {
     "data": {
      "text/html": [
       "<div>\n",
       "<style scoped>\n",
       "    .dataframe tbody tr th:only-of-type {\n",
       "        vertical-align: middle;\n",
       "    }\n",
       "\n",
       "    .dataframe tbody tr th {\n",
       "        vertical-align: top;\n",
       "    }\n",
       "\n",
       "    .dataframe thead th {\n",
       "        text-align: right;\n",
       "    }\n",
       "</style>\n",
       "<table border=\"1\" class=\"dataframe\">\n",
       "  <thead>\n",
       "    <tr style=\"text-align: right;\">\n",
       "      <th></th>\n",
       "      <th>budget</th>\n",
       "      <th>revenue</th>\n",
       "      <th>original_title</th>\n",
       "      <th>runtime</th>\n",
       "      <th>genres</th>\n",
       "      <th>release_date</th>\n",
       "      <th>vote_count</th>\n",
       "      <th>vote_average</th>\n",
       "      <th>release_year</th>\n",
       "      <th>budget_adj</th>\n",
       "      <th>revenue_adj</th>\n",
       "      <th>release_month</th>\n",
       "    </tr>\n",
       "  </thead>\n",
       "  <tbody>\n",
       "    <tr>\n",
       "      <th>0</th>\n",
       "      <td>150000000</td>\n",
       "      <td>1513528810</td>\n",
       "      <td>Jurassic World</td>\n",
       "      <td>124</td>\n",
       "      <td>Action|Adventure|Science Fiction|Thriller</td>\n",
       "      <td>2015-06-09</td>\n",
       "      <td>5562</td>\n",
       "      <td>6.50</td>\n",
       "      <td>2015</td>\n",
       "      <td>137999939.30</td>\n",
       "      <td>1392445893.00</td>\n",
       "      <td>6</td>\n",
       "    </tr>\n",
       "    <tr>\n",
       "      <th>1</th>\n",
       "      <td>150000000</td>\n",
       "      <td>378436354</td>\n",
       "      <td>Mad Max: Fury Road</td>\n",
       "      <td>120</td>\n",
       "      <td>Action|Adventure|Science Fiction|Thriller</td>\n",
       "      <td>2015-05-13</td>\n",
       "      <td>6185</td>\n",
       "      <td>7.10</td>\n",
       "      <td>2015</td>\n",
       "      <td>137999939.30</td>\n",
       "      <td>348161292.50</td>\n",
       "      <td>5</td>\n",
       "    </tr>\n",
       "    <tr>\n",
       "      <th>2</th>\n",
       "      <td>110000000</td>\n",
       "      <td>295238201</td>\n",
       "      <td>Insurgent</td>\n",
       "      <td>119</td>\n",
       "      <td>Adventure|Science Fiction|Thriller</td>\n",
       "      <td>2015-03-18</td>\n",
       "      <td>2480</td>\n",
       "      <td>6.30</td>\n",
       "      <td>2015</td>\n",
       "      <td>101199955.50</td>\n",
       "      <td>271619025.40</td>\n",
       "      <td>3</td>\n",
       "    </tr>\n",
       "    <tr>\n",
       "      <th>3</th>\n",
       "      <td>200000000</td>\n",
       "      <td>2068178225</td>\n",
       "      <td>Star Wars: The Force Awakens</td>\n",
       "      <td>136</td>\n",
       "      <td>Action|Adventure|Science Fiction|Fantasy</td>\n",
       "      <td>2015-12-15</td>\n",
       "      <td>5292</td>\n",
       "      <td>7.50</td>\n",
       "      <td>2015</td>\n",
       "      <td>183999919.00</td>\n",
       "      <td>1902723130.00</td>\n",
       "      <td>12</td>\n",
       "    </tr>\n",
       "    <tr>\n",
       "      <th>4</th>\n",
       "      <td>190000000</td>\n",
       "      <td>1506249360</td>\n",
       "      <td>Furious 7</td>\n",
       "      <td>137</td>\n",
       "      <td>Action|Crime|Thriller</td>\n",
       "      <td>2015-04-01</td>\n",
       "      <td>2947</td>\n",
       "      <td>7.30</td>\n",
       "      <td>2015</td>\n",
       "      <td>174799923.10</td>\n",
       "      <td>1385748801.00</td>\n",
       "      <td>4</td>\n",
       "    </tr>\n",
       "  </tbody>\n",
       "</table>\n",
       "</div>"
      ],
      "text/plain": [
       "      budget     revenue                original_title  runtime  \\\n",
       "0  150000000  1513528810                Jurassic World      124   \n",
       "1  150000000   378436354            Mad Max: Fury Road      120   \n",
       "2  110000000   295238201                     Insurgent      119   \n",
       "3  200000000  2068178225  Star Wars: The Force Awakens      136   \n",
       "4  190000000  1506249360                     Furious 7      137   \n",
       "\n",
       "                                      genres release_date  vote_count  \\\n",
       "0  Action|Adventure|Science Fiction|Thriller   2015-06-09        5562   \n",
       "1  Action|Adventure|Science Fiction|Thriller   2015-05-13        6185   \n",
       "2         Adventure|Science Fiction|Thriller   2015-03-18        2480   \n",
       "3   Action|Adventure|Science Fiction|Fantasy   2015-12-15        5292   \n",
       "4                      Action|Crime|Thriller   2015-04-01        2947   \n",
       "\n",
       "   vote_average  release_year   budget_adj   revenue_adj  release_month  \n",
       "0          6.50          2015 137999939.30 1392445893.00              6  \n",
       "1          7.10          2015 137999939.30  348161292.50              5  \n",
       "2          6.30          2015 101199955.50  271619025.40              3  \n",
       "3          7.50          2015 183999919.00 1902723130.00             12  \n",
       "4          7.30          2015 174799923.10 1385748801.00              4  "
      ]
     },
     "execution_count": 133,
     "metadata": {},
     "output_type": "execute_result"
    }
   ],
   "source": [
    "#confirm month column created and data looks good\n",
    "df_movies.head(5)"
   ]
  },
  {
   "cell_type": "markdown",
   "metadata": {},
   "source": [
    "If we scroll to the far right of the data output, we can see that a new column release_month has been created and contains the month of every release date."
   ]
  },
  {
   "cell_type": "markdown",
   "metadata": {},
   "source": [
    "### 13. Remove the first genre from the genres column for every row using the apply() function and create a new column with that genre."
   ]
  },
  {
   "cell_type": "markdown",
   "metadata": {},
   "source": [
    "To answer one of our questions, we need the primary genre for every movie"
   ]
  },
  {
   "cell_type": "code",
   "execution_count": 134,
   "metadata": {},
   "outputs": [],
   "source": [
    "#split the genres in each row on every | symbol, extract the first genre, & save values to a new column called primary_genre\n",
    "df_movies['primary_genre'] = df_movies['genres'].apply(lambda x: x.split(\"|\")[0])"
   ]
  },
  {
   "cell_type": "code",
   "execution_count": 135,
   "metadata": {},
   "outputs": [
    {
     "data": {
      "text/html": [
       "<div>\n",
       "<style scoped>\n",
       "    .dataframe tbody tr th:only-of-type {\n",
       "        vertical-align: middle;\n",
       "    }\n",
       "\n",
       "    .dataframe tbody tr th {\n",
       "        vertical-align: top;\n",
       "    }\n",
       "\n",
       "    .dataframe thead th {\n",
       "        text-align: right;\n",
       "    }\n",
       "</style>\n",
       "<table border=\"1\" class=\"dataframe\">\n",
       "  <thead>\n",
       "    <tr style=\"text-align: right;\">\n",
       "      <th></th>\n",
       "      <th>budget</th>\n",
       "      <th>revenue</th>\n",
       "      <th>original_title</th>\n",
       "      <th>runtime</th>\n",
       "      <th>genres</th>\n",
       "      <th>release_date</th>\n",
       "      <th>vote_count</th>\n",
       "      <th>vote_average</th>\n",
       "      <th>release_year</th>\n",
       "      <th>budget_adj</th>\n",
       "      <th>revenue_adj</th>\n",
       "      <th>release_month</th>\n",
       "      <th>primary_genre</th>\n",
       "    </tr>\n",
       "  </thead>\n",
       "  <tbody>\n",
       "    <tr>\n",
       "      <th>0</th>\n",
       "      <td>150000000</td>\n",
       "      <td>1513528810</td>\n",
       "      <td>Jurassic World</td>\n",
       "      <td>124</td>\n",
       "      <td>Action|Adventure|Science Fiction|Thriller</td>\n",
       "      <td>2015-06-09</td>\n",
       "      <td>5562</td>\n",
       "      <td>6.50</td>\n",
       "      <td>2015</td>\n",
       "      <td>137999939.30</td>\n",
       "      <td>1392445893.00</td>\n",
       "      <td>6</td>\n",
       "      <td>Action</td>\n",
       "    </tr>\n",
       "    <tr>\n",
       "      <th>1</th>\n",
       "      <td>150000000</td>\n",
       "      <td>378436354</td>\n",
       "      <td>Mad Max: Fury Road</td>\n",
       "      <td>120</td>\n",
       "      <td>Action|Adventure|Science Fiction|Thriller</td>\n",
       "      <td>2015-05-13</td>\n",
       "      <td>6185</td>\n",
       "      <td>7.10</td>\n",
       "      <td>2015</td>\n",
       "      <td>137999939.30</td>\n",
       "      <td>348161292.50</td>\n",
       "      <td>5</td>\n",
       "      <td>Action</td>\n",
       "    </tr>\n",
       "    <tr>\n",
       "      <th>2</th>\n",
       "      <td>110000000</td>\n",
       "      <td>295238201</td>\n",
       "      <td>Insurgent</td>\n",
       "      <td>119</td>\n",
       "      <td>Adventure|Science Fiction|Thriller</td>\n",
       "      <td>2015-03-18</td>\n",
       "      <td>2480</td>\n",
       "      <td>6.30</td>\n",
       "      <td>2015</td>\n",
       "      <td>101199955.50</td>\n",
       "      <td>271619025.40</td>\n",
       "      <td>3</td>\n",
       "      <td>Adventure</td>\n",
       "    </tr>\n",
       "    <tr>\n",
       "      <th>3</th>\n",
       "      <td>200000000</td>\n",
       "      <td>2068178225</td>\n",
       "      <td>Star Wars: The Force Awakens</td>\n",
       "      <td>136</td>\n",
       "      <td>Action|Adventure|Science Fiction|Fantasy</td>\n",
       "      <td>2015-12-15</td>\n",
       "      <td>5292</td>\n",
       "      <td>7.50</td>\n",
       "      <td>2015</td>\n",
       "      <td>183999919.00</td>\n",
       "      <td>1902723130.00</td>\n",
       "      <td>12</td>\n",
       "      <td>Action</td>\n",
       "    </tr>\n",
       "    <tr>\n",
       "      <th>4</th>\n",
       "      <td>190000000</td>\n",
       "      <td>1506249360</td>\n",
       "      <td>Furious 7</td>\n",
       "      <td>137</td>\n",
       "      <td>Action|Crime|Thriller</td>\n",
       "      <td>2015-04-01</td>\n",
       "      <td>2947</td>\n",
       "      <td>7.30</td>\n",
       "      <td>2015</td>\n",
       "      <td>174799923.10</td>\n",
       "      <td>1385748801.00</td>\n",
       "      <td>4</td>\n",
       "      <td>Action</td>\n",
       "    </tr>\n",
       "  </tbody>\n",
       "</table>\n",
       "</div>"
      ],
      "text/plain": [
       "      budget     revenue                original_title  runtime  \\\n",
       "0  150000000  1513528810                Jurassic World      124   \n",
       "1  150000000   378436354            Mad Max: Fury Road      120   \n",
       "2  110000000   295238201                     Insurgent      119   \n",
       "3  200000000  2068178225  Star Wars: The Force Awakens      136   \n",
       "4  190000000  1506249360                     Furious 7      137   \n",
       "\n",
       "                                      genres release_date  vote_count  \\\n",
       "0  Action|Adventure|Science Fiction|Thriller   2015-06-09        5562   \n",
       "1  Action|Adventure|Science Fiction|Thriller   2015-05-13        6185   \n",
       "2         Adventure|Science Fiction|Thriller   2015-03-18        2480   \n",
       "3   Action|Adventure|Science Fiction|Fantasy   2015-12-15        5292   \n",
       "4                      Action|Crime|Thriller   2015-04-01        2947   \n",
       "\n",
       "   vote_average  release_year   budget_adj   revenue_adj  release_month  \\\n",
       "0          6.50          2015 137999939.30 1392445893.00              6   \n",
       "1          7.10          2015 137999939.30  348161292.50              5   \n",
       "2          6.30          2015 101199955.50  271619025.40              3   \n",
       "3          7.50          2015 183999919.00 1902723130.00             12   \n",
       "4          7.30          2015 174799923.10 1385748801.00              4   \n",
       "\n",
       "  primary_genre  \n",
       "0        Action  \n",
       "1        Action  \n",
       "2     Adventure  \n",
       "3        Action  \n",
       "4        Action  "
      ]
     },
     "execution_count": 135,
     "metadata": {},
     "output_type": "execute_result"
    }
   ],
   "source": [
    "#confirm the new column was created and contains the first genre value from each row in the genres column\n",
    "df_movies.head(5)"
   ]
  },
  {
   "cell_type": "markdown",
   "metadata": {},
   "source": [
    "If we scroll to the far right of the data output, we can see that a new column primary_genre has been created and contains the first genre from every row of the genres column."
   ]
  },
  {
   "cell_type": "markdown",
   "metadata": {},
   "source": [
    "<a id='eda'></a>\n",
    "## Exploratory Data Analysis\n",
    "\n",
    "\n",
    "### Research Question 1: Which genres receive the highest ratings?"
   ]
  },
  {
   "cell_type": "markdown",
   "metadata": {},
   "source": [
    "### 14. Use the groupby() and sort_values() functions to get the average vote score for each primary genre, and create a bar chart for analysis of vote counts."
   ]
  },
  {
   "cell_type": "markdown",
   "metadata": {},
   "source": [
    "To get the data for answering this question, we first need to group by the primary_genre column, so all movies that have the same primary_genre will be grouped together. For each group, we then need the average vote score. We're also adding the average vote count for review, because it's important to know how many votes went into each vote, because the average number of votes varies widely for different genres.\n",
    "\n",
    "Then we sort the data in descending order by the vote_average column to view which movies had the highest and lowest average vote ratings."
   ]
  },
  {
   "cell_type": "code",
   "execution_count": 136,
   "metadata": {},
   "outputs": [
    {
     "data": {
      "text/html": [
       "<div>\n",
       "<style scoped>\n",
       "    .dataframe tbody tr th:only-of-type {\n",
       "        vertical-align: middle;\n",
       "    }\n",
       "\n",
       "    .dataframe tbody tr th {\n",
       "        vertical-align: top;\n",
       "    }\n",
       "\n",
       "    .dataframe thead th {\n",
       "        text-align: right;\n",
       "    }\n",
       "</style>\n",
       "<table border=\"1\" class=\"dataframe\">\n",
       "  <thead>\n",
       "    <tr style=\"text-align: right;\">\n",
       "      <th></th>\n",
       "      <th>primary_genre</th>\n",
       "      <th>vote_average</th>\n",
       "      <th>vote_count</th>\n",
       "    </tr>\n",
       "  </thead>\n",
       "  <tbody>\n",
       "    <tr>\n",
       "      <th>5</th>\n",
       "      <td>Documentary</td>\n",
       "      <td>6.92</td>\n",
       "      <td>34.65</td>\n",
       "    </tr>\n",
       "    <tr>\n",
       "      <th>12</th>\n",
       "      <td>Music</td>\n",
       "      <td>6.61</td>\n",
       "      <td>94.09</td>\n",
       "    </tr>\n",
       "    <tr>\n",
       "      <th>2</th>\n",
       "      <td>Animation</td>\n",
       "      <td>6.41</td>\n",
       "      <td>284.06</td>\n",
       "    </tr>\n",
       "    <tr>\n",
       "      <th>10</th>\n",
       "      <td>History</td>\n",
       "      <td>6.38</td>\n",
       "      <td>246.34</td>\n",
       "    </tr>\n",
       "    <tr>\n",
       "      <th>4</th>\n",
       "      <td>Crime</td>\n",
       "      <td>6.22</td>\n",
       "      <td>227.46</td>\n",
       "    </tr>\n",
       "    <tr>\n",
       "      <th>6</th>\n",
       "      <td>Drama</td>\n",
       "      <td>6.20</td>\n",
       "      <td>165.37</td>\n",
       "    </tr>\n",
       "    <tr>\n",
       "      <th>18</th>\n",
       "      <td>War</td>\n",
       "      <td>6.18</td>\n",
       "      <td>259.80</td>\n",
       "    </tr>\n",
       "    <tr>\n",
       "      <th>14</th>\n",
       "      <td>Romance</td>\n",
       "      <td>6.13</td>\n",
       "      <td>217.61</td>\n",
       "    </tr>\n",
       "    <tr>\n",
       "      <th>19</th>\n",
       "      <td>Western</td>\n",
       "      <td>6.08</td>\n",
       "      <td>184.52</td>\n",
       "    </tr>\n",
       "    <tr>\n",
       "      <th>1</th>\n",
       "      <td>Adventure</td>\n",
       "      <td>6.05</td>\n",
       "      <td>555.66</td>\n",
       "    </tr>\n",
       "    <tr>\n",
       "      <th>15</th>\n",
       "      <td>Science Fiction</td>\n",
       "      <td>5.96</td>\n",
       "      <td>511.92</td>\n",
       "    </tr>\n",
       "    <tr>\n",
       "      <th>7</th>\n",
       "      <td>Family</td>\n",
       "      <td>5.95</td>\n",
       "      <td>215.72</td>\n",
       "    </tr>\n",
       "    <tr>\n",
       "      <th>13</th>\n",
       "      <td>Mystery</td>\n",
       "      <td>5.90</td>\n",
       "      <td>159.56</td>\n",
       "    </tr>\n",
       "    <tr>\n",
       "      <th>9</th>\n",
       "      <td>Foreign</td>\n",
       "      <td>5.90</td>\n",
       "      <td>20.33</td>\n",
       "    </tr>\n",
       "    <tr>\n",
       "      <th>3</th>\n",
       "      <td>Comedy</td>\n",
       "      <td>5.88</td>\n",
       "      <td>142.03</td>\n",
       "    </tr>\n",
       "    <tr>\n",
       "      <th>8</th>\n",
       "      <td>Fantasy</td>\n",
       "      <td>5.80</td>\n",
       "      <td>316.02</td>\n",
       "    </tr>\n",
       "    <tr>\n",
       "      <th>16</th>\n",
       "      <td>TV Movie</td>\n",
       "      <td>5.79</td>\n",
       "      <td>28.69</td>\n",
       "    </tr>\n",
       "    <tr>\n",
       "      <th>0</th>\n",
       "      <td>Action</td>\n",
       "      <td>5.75</td>\n",
       "      <td>339.04</td>\n",
       "    </tr>\n",
       "    <tr>\n",
       "      <th>17</th>\n",
       "      <td>Thriller</td>\n",
       "      <td>5.63</td>\n",
       "      <td>207.45</td>\n",
       "    </tr>\n",
       "    <tr>\n",
       "      <th>11</th>\n",
       "      <td>Horror</td>\n",
       "      <td>5.32</td>\n",
       "      <td>121.81</td>\n",
       "    </tr>\n",
       "  </tbody>\n",
       "</table>\n",
       "</div>"
      ],
      "text/plain": [
       "      primary_genre  vote_average  vote_count\n",
       "5       Documentary          6.92       34.65\n",
       "12            Music          6.61       94.09\n",
       "2         Animation          6.41      284.06\n",
       "10          History          6.38      246.34\n",
       "4             Crime          6.22      227.46\n",
       "6             Drama          6.20      165.37\n",
       "18              War          6.18      259.80\n",
       "14          Romance          6.13      217.61\n",
       "19          Western          6.08      184.52\n",
       "1         Adventure          6.05      555.66\n",
       "15  Science Fiction          5.96      511.92\n",
       "7            Family          5.95      215.72\n",
       "13          Mystery          5.90      159.56\n",
       "9           Foreign          5.90       20.33\n",
       "3            Comedy          5.88      142.03\n",
       "8           Fantasy          5.80      316.02\n",
       "16         TV Movie          5.79       28.69\n",
       "0            Action          5.75      339.04\n",
       "17         Thriller          5.63      207.45\n",
       "11           Horror          5.32      121.81"
      ]
     },
     "execution_count": 136,
     "metadata": {},
     "output_type": "execute_result"
    }
   ],
   "source": [
    "genre_ratings_sorted = df_movies.groupby('primary_genre', as_index=False)['vote_average', 'vote_count'].mean()\n",
    "genre_ratings_sorted.sort_values('vote_average', ascending=False)"
   ]
  },
  {
   "cell_type": "markdown",
   "metadata": {},
   "source": [
    "We can see that the Documentary genre had the highest vote average, while the Horror genre had the lowest vote average. However, it's important to look at the vote count when considering the relevance of the vote_average column data. Below is a bar chart displaying the average vote count, showing the disparity among the different genres."
   ]
  },
  {
   "cell_type": "code",
   "execution_count": 137,
   "metadata": {},
   "outputs": [
    {
     "data": {
      "image/png": "[encoded data removed]",
      "text/plain": [
       "<Figure size 432x288 with 1 Axes>"
      ]
     },
     "metadata": {
      "needs_background": "light"
     },
     "output_type": "display_data"
    }
   ],
   "source": [
    "genre_ratings_count = df_movies.groupby('primary_genre').vote_count.mean()\n",
    "genre_ratings_count.plot(kind='bar', title='Average Vote Count By Genre', alpha=.7)\n",
    "sns.set_style(\"darkgrid\")\n",
    "plt.xlabel('Genre Name', fontsize=18)\n",
    "plt.ylabel('Vote Count Average', fontsize=18);"
   ]
  },
  {
   "cell_type": "markdown",
   "metadata": {},
   "source": [
    "The Documentary genre had third-lowest average vote count of all genres. Considering most of the genres have an average vote count over 100, the vote average should not be the only variable used for determining movie popularity."
   ]
  },
  {
   "cell_type": "markdown",
   "metadata": {},
   "source": [
    "### Research Question 2: Do movies with a longer runtime receive worse ratings than movies with shorter runtime?"
   ]
  },
  {
   "cell_type": "markdown",
   "metadata": {},
   "source": [
    "### 15. Query movie runtime data to determine short and long runtimes, and plot the results."
   ]
  },
  {
   "cell_type": "markdown",
   "metadata": {},
   "source": [
    "First we'll look at the descriptive statistics for the runtime column to see where the proportions of movie runtimes."
   ]
  },
  {
   "cell_type": "code",
   "execution_count": 138,
   "metadata": {},
   "outputs": [
    {
     "data": {
      "text/plain": [
       "count   10842.00\n",
       "mean      102.14\n",
       "std        31.29\n",
       "min         0.00\n",
       "25%        90.00\n",
       "50%        99.00\n",
       "75%       111.00\n",
       "max       900.00\n",
       "Name: runtime, dtype: float64"
      ]
     },
     "execution_count": 138,
     "metadata": {},
     "output_type": "execute_result"
    }
   ],
   "source": [
    "#check descriptive stats on movie runtime\n",
    "df_movies.runtime.describe()"
   ]
  },
  {
   "cell_type": "markdown",
   "metadata": {},
   "source": [
    "While we have some movies in our dataset with zero runtime, instead of deleting that data we're going to create two subsets of data called runtime_greater and runtime_lesser, and then compare the two. For runtime_greater we'll use movie runtimes greater than the 75th percentile, or 111 minutes of runtime, and up to 210 minutes(3.5 hours). Any movies longer than that are typically docuseries or some other type of movie what wouldn't be watched in a theater, which is really the type of movie we're trying to measure. \n",
    "\n",
    "For runtime_lesser we're going to take a different approach to the minimum movie time. Typically movies last more than an hour, but there are movie runtimes under 90 minutes, which is the 25th percentile, so we're going to evaluate shorter movies starting with a runtime of 75 minutes and up to 110 minues, just below the 75th percentile. "
   ]
  },
  {
   "cell_type": "code",
   "execution_count": 139,
   "metadata": {},
   "outputs": [],
   "source": [
    "#save movies with longer runtimes\n",
    "runtime_greater = df_movies.query('runtime >= 111 & runtime <= 210')"
   ]
  },
  {
   "cell_type": "code",
   "execution_count": 140,
   "metadata": {},
   "outputs": [],
   "source": [
    "#save movies with shorter runtimes\n",
    "runtime_lesser = df_movies.query('runtime < 111 & runtime > 75')"
   ]
  },
  {
   "cell_type": "code",
   "execution_count": 141,
   "metadata": {},
   "outputs": [],
   "source": [
    "#vote_average for longer running movies\n",
    "longer_runtime_vote = runtime_greater.vote_average.mean()"
   ]
  },
  {
   "cell_type": "code",
   "execution_count": 142,
   "metadata": {},
   "outputs": [],
   "source": [
    "#vote_average for shorter running movies\n",
    "shorter_runtime_vote = runtime_lesser.vote_average.mean()"
   ]
  },
  {
   "cell_type": "code",
   "execution_count": 143,
   "metadata": {},
   "outputs": [
    {
     "data": {
      "image/png": "[encoded data removed]",
      "text/plain": [
       "<Figure size 432x288 with 1 Axes>"
      ]
     },
     "metadata": {},
     "output_type": "display_data"
    }
   ],
   "source": [
    "#plot bar chart for average votes for shorter and longer movie runtimes\n",
    "plt.bar([\"Runtime between 75-110\", \"Runtime between 111-210\"], [shorter_runtime_vote, longer_runtime_vote]);"
   ]
  },
  {
   "cell_type": "markdown",
   "metadata": {},
   "source": [
    "Above we can see that longer movies, on average, get better ratings than shorter movies. Another analyzation we can do is to check the correlation between these two variables. Below is a scatterplot of movies that fall between the short and long runtime values and the relationship to voting average."
   ]
  },
  {
   "cell_type": "code",
   "execution_count": 154,
   "metadata": {},
   "outputs": [
    {
     "data": {
      "image/png": "[encoded data removed]",
      "text/plain": [
       "<Figure size 432x288 with 1 Axes>"
      ]
     },
     "metadata": {},
     "output_type": "display_data"
    }
   ],
   "source": [
    "movies_to_plot = df_movies.query('runtime < 210 & runtime > 75')\n",
    "movies_to_plot.plot(x='runtime', y='vote_average', kind='scatter');"
   ]
  },
  {
   "cell_type": "markdown",
   "metadata": {},
   "source": [
    "From these results we can see that most movie runtimes fall between 75 and 140 minutes, and that there is a positive correlation between these two variables, as movies with shorter runtimes receive lower vote averages. \n",
    "\n",
    "These results prompt additional questions about why this the results turned out this way: \n",
    "\n",
    "- Are longer movies more popular because they go deeper into the movie characters or plotlines?\n",
    "- Are shorter movies lacking substance and feel rushed?\n",
    "- Do shorter movies lack the budget to create a higher-quality movie?"
   ]
  },
  {
   "cell_type": "markdown",
   "metadata": {},
   "source": [
    "### Research Question 3: Do movies with higher budgets generally get better ratings than those with lower budgets?"
   ]
  },
  {
   "cell_type": "markdown",
   "metadata": {},
   "source": [
    "### 16. Put movies into different budget levels, determine the vote average, and plot the results. "
   ]
  },
  {
   "cell_type": "markdown",
   "metadata": {},
   "source": [
    "To do this analysis, we're going to work the the budget_adj column, so all movies are considered equally. As mentioned in the column descriptions table, the budget_adj data consideres all movie budget data in terms of 2010 dollars, accounting for inflation over time.\n",
    "\n",
    "We're also going to only consider movies with an adjusted budget over $1 million, to filter out the lowest budget movies that most people aren't familiar with, and also movies that don't have a budget value provided.\n",
    "\n",
    "Below we'll start by looking at the descriptive statistics."
   ]
  },
  {
   "cell_type": "code",
   "execution_count": 144,
   "metadata": {},
   "outputs": [
    {
     "data": {
      "text/html": [
       "<div>\n",
       "<style scoped>\n",
       "    .dataframe tbody tr th:only-of-type {\n",
       "        vertical-align: middle;\n",
       "    }\n",
       "\n",
       "    .dataframe tbody tr th {\n",
       "        vertical-align: top;\n",
       "    }\n",
       "\n",
       "    .dataframe thead th {\n",
       "        text-align: right;\n",
       "    }\n",
       "</style>\n",
       "<table border=\"1\" class=\"dataframe\">\n",
       "  <thead>\n",
       "    <tr style=\"text-align: right;\">\n",
       "      <th></th>\n",
       "      <th>budget</th>\n",
       "      <th>revenue</th>\n",
       "      <th>runtime</th>\n",
       "      <th>vote_count</th>\n",
       "      <th>vote_average</th>\n",
       "      <th>release_year</th>\n",
       "      <th>budget_adj</th>\n",
       "      <th>revenue_adj</th>\n",
       "      <th>release_month</th>\n",
       "    </tr>\n",
       "  </thead>\n",
       "  <tbody>\n",
       "    <tr>\n",
       "      <th>count</th>\n",
       "      <td>4841.00</td>\n",
       "      <td>4841.00</td>\n",
       "      <td>4841.00</td>\n",
       "      <td>4841.00</td>\n",
       "      <td>4841.00</td>\n",
       "      <td>4841.00</td>\n",
       "      <td>4841.00</td>\n",
       "      <td>4841.00</td>\n",
       "      <td>4841.00</td>\n",
       "    </tr>\n",
       "    <tr>\n",
       "      <th>mean</th>\n",
       "      <td>32799394.04</td>\n",
       "      <td>85445215.20</td>\n",
       "      <td>108.21</td>\n",
       "      <td>431.64</td>\n",
       "      <td>6.05</td>\n",
       "      <td>2001.16</td>\n",
       "      <td>39362355.84</td>\n",
       "      <td>108724529.05</td>\n",
       "      <td>6.99</td>\n",
       "    </tr>\n",
       "    <tr>\n",
       "      <th>std</th>\n",
       "      <td>39360374.70</td>\n",
       "      <td>163440051.70</td>\n",
       "      <td>22.24</td>\n",
       "      <td>808.96</td>\n",
       "      <td>0.86</td>\n",
       "      <td>11.63</td>\n",
       "      <td>42232861.09</td>\n",
       "      <td>200653200.36</td>\n",
       "      <td>3.39</td>\n",
       "    </tr>\n",
       "    <tr>\n",
       "      <th>min</th>\n",
       "      <td>175000.00</td>\n",
       "      <td>0.00</td>\n",
       "      <td>0.00</td>\n",
       "      <td>10.00</td>\n",
       "      <td>2.20</td>\n",
       "      <td>1960.00</td>\n",
       "      <td>1002810.21</td>\n",
       "      <td>0.00</td>\n",
       "      <td>1.00</td>\n",
       "    </tr>\n",
       "    <tr>\n",
       "      <th>25%</th>\n",
       "      <td>7920000.00</td>\n",
       "      <td>251495.00</td>\n",
       "      <td>94.00</td>\n",
       "      <td>41.00</td>\n",
       "      <td>5.50</td>\n",
       "      <td>1996.00</td>\n",
       "      <td>10164004.34</td>\n",
       "      <td>300600.43</td>\n",
       "      <td>4.00</td>\n",
       "    </tr>\n",
       "    <tr>\n",
       "      <th>50%</th>\n",
       "      <td>20000000.00</td>\n",
       "      <td>25739015.00</td>\n",
       "      <td>104.00</td>\n",
       "      <td>135.00</td>\n",
       "      <td>6.10</td>\n",
       "      <td>2004.00</td>\n",
       "      <td>25319665.85</td>\n",
       "      <td>34253645.34</td>\n",
       "      <td>7.00</td>\n",
       "    </tr>\n",
       "    <tr>\n",
       "      <th>75%</th>\n",
       "      <td>40000000.00</td>\n",
       "      <td>96889998.00</td>\n",
       "      <td>118.00</td>\n",
       "      <td>435.00</td>\n",
       "      <td>6.60</td>\n",
       "      <td>2010.00</td>\n",
       "      <td>52828236.08</td>\n",
       "      <td>123521044.00</td>\n",
       "      <td>10.00</td>\n",
       "    </tr>\n",
       "    <tr>\n",
       "      <th>max</th>\n",
       "      <td>425000000.00</td>\n",
       "      <td>2781505847.00</td>\n",
       "      <td>540.00</td>\n",
       "      <td>9767.00</td>\n",
       "      <td>8.40</td>\n",
       "      <td>2015.00</td>\n",
       "      <td>425000000.00</td>\n",
       "      <td>2827123750.00</td>\n",
       "      <td>12.00</td>\n",
       "    </tr>\n",
       "  </tbody>\n",
       "</table>\n",
       "</div>"
      ],
      "text/plain": [
       "            budget       revenue  runtime  vote_count  vote_average  \\\n",
       "count      4841.00       4841.00  4841.00     4841.00       4841.00   \n",
       "mean   32799394.04   85445215.20   108.21      431.64          6.05   \n",
       "std    39360374.70  163440051.70    22.24      808.96          0.86   \n",
       "min      175000.00          0.00     0.00       10.00          2.20   \n",
       "25%     7920000.00     251495.00    94.00       41.00          5.50   \n",
       "50%    20000000.00   25739015.00   104.00      135.00          6.10   \n",
       "75%    40000000.00   96889998.00   118.00      435.00          6.60   \n",
       "max   425000000.00 2781505847.00   540.00     9767.00          8.40   \n",
       "\n",
       "       release_year   budget_adj   revenue_adj  release_month  \n",
       "count       4841.00      4841.00       4841.00        4841.00  \n",
       "mean        2001.16  39362355.84  108724529.05           6.99  \n",
       "std           11.63  42232861.09  200653200.36           3.39  \n",
       "min         1960.00   1002810.21          0.00           1.00  \n",
       "25%         1996.00  10164004.34     300600.43           4.00  \n",
       "50%         2004.00  25319665.85   34253645.34           7.00  \n",
       "75%         2010.00  52828236.08  123521044.00          10.00  \n",
       "max         2015.00 425000000.00 2827123750.00          12.00  "
      ]
     },
     "execution_count": 144,
     "metadata": {},
     "output_type": "execute_result"
    }
   ],
   "source": [
    "#save only movies with a budget over $1 million\n",
    "with_budget = df_movies.query('budget_adj > 1000000')\n",
    "with_budget.describe()"
   ]
  },
  {
   "cell_type": "markdown",
   "metadata": {},
   "source": [
    "Now that we can see the min, max, and percentile values, we're going to separate the adjusted budget values into four different budget levels. First, we'll save the adjusted budget values we need."
   ]
  },
  {
   "cell_type": "code",
   "execution_count": 145,
   "metadata": {},
   "outputs": [],
   "source": [
    "#budget_adj values for min, 25%, 50%, 75%, max\n",
    "budget_values = [1002810.21, 10164004.34, 25319665.85, 52828236.08, 425000000.00]"
   ]
  },
  {
   "cell_type": "markdown",
   "metadata": {},
   "source": [
    "Here we'll create the four budget level label names we'll use."
   ]
  },
  {
   "cell_type": "code",
   "execution_count": 146,
   "metadata": {},
   "outputs": [],
   "source": [
    "budget_levels = ['Low: Lowest 25% of budgets', 'Medium: 25%-50% of budgets', 'High: 50%-75% of budgets', \n",
    "             'Highest: above 75% of budgets']"
   ]
  },
  {
   "cell_type": "markdown",
   "metadata": {},
   "source": [
    "Then we'll use the cut() function to place the movies with fall between certain budget values into one of the four labels, and add those labels to each row in a new column called budget_level. Specifically the values fall into the labels like this: \n",
    "- min-25%: Low: Lowest 25% of budgets\n",
    "- 25%-50%: Medium: 25%-50% of budgets\n",
    "- 50%-75%: High: 50%-75% of budgets\n",
    "- 75%-max: Highest: above 75% of budgets\n"
   ]
  },
  {
   "cell_type": "code",
   "execution_count": 147,
   "metadata": {},
   "outputs": [],
   "source": [
    "#create new column and save data\n",
    "df_movies['budget_level'] = pd.cut(with_budget['budget_adj'], budget_values, labels=budget_levels);"
   ]
  },
  {
   "cell_type": "markdown",
   "metadata": {},
   "source": [
    "We'll then group our data by budget level, and get the average vote rating for each level, and then plot the results to a bar chart."
   ]
  },
  {
   "cell_type": "code",
   "execution_count": 148,
   "metadata": {},
   "outputs": [
    {
     "data": {
      "text/html": [
       "<div>\n",
       "<style scoped>\n",
       "    .dataframe tbody tr th:only-of-type {\n",
       "        vertical-align: middle;\n",
       "    }\n",
       "\n",
       "    .dataframe tbody tr th {\n",
       "        vertical-align: top;\n",
       "    }\n",
       "\n",
       "    .dataframe thead th {\n",
       "        text-align: right;\n",
       "    }\n",
       "</style>\n",
       "<table border=\"1\" class=\"dataframe\">\n",
       "  <thead>\n",
       "    <tr style=\"text-align: right;\">\n",
       "      <th></th>\n",
       "      <th>budget_level</th>\n",
       "      <th>vote_average</th>\n",
       "    </tr>\n",
       "  </thead>\n",
       "  <tbody>\n",
       "    <tr>\n",
       "      <th>0</th>\n",
       "      <td>Low: Lowest 25% of budgets</td>\n",
       "      <td>5.88</td>\n",
       "    </tr>\n",
       "    <tr>\n",
       "      <th>1</th>\n",
       "      <td>Medium: 25%-50% of budgets</td>\n",
       "      <td>6.06</td>\n",
       "    </tr>\n",
       "    <tr>\n",
       "      <th>2</th>\n",
       "      <td>High: 50%-75% of budgets</td>\n",
       "      <td>6.13</td>\n",
       "    </tr>\n",
       "    <tr>\n",
       "      <th>3</th>\n",
       "      <td>Highest: above 75% of budgets</td>\n",
       "      <td>6.13</td>\n",
       "    </tr>\n",
       "  </tbody>\n",
       "</table>\n",
       "</div>"
      ],
      "text/plain": [
       "                    budget_level  vote_average\n",
       "0     Low: Lowest 25% of budgets          5.88\n",
       "1     Medium: 25%-50% of budgets          6.06\n",
       "2       High: 50%-75% of budgets          6.13\n",
       "3  Highest: above 75% of budgets          6.13"
      ]
     },
     "execution_count": 148,
     "metadata": {},
     "output_type": "execute_result"
    }
   ],
   "source": [
    "df_movies.groupby('budget_level', as_index=False)['vote_average'].mean()"
   ]
  },
  {
   "cell_type": "code",
   "execution_count": 149,
   "metadata": {},
   "outputs": [
    {
     "data": {
      "image/png": "[encoded data removed]",
      "text/plain": [
       "<Figure size 432x288 with 1 Axes>"
      ]
     },
     "metadata": {},
     "output_type": "display_data"
    }
   ],
   "source": [
    "plt.bar([1, 2, 3, 4], [5.88, 6.06, 6.13, 6.13], tick_label=['Low Budgets', 'Medium Budgets', 'High Budgets', 'Highest Budgets'])\n",
    "plt.title('Average vote rating by budget level')\n",
    "plt.xlabel('Budget Level')\n",
    "plt.ylabel('Vote Rating Average');"
   ]
  },
  {
   "cell_type": "markdown",
   "metadata": {},
   "source": [
    "Movies with higher budgets do typically receive better ratings on average. This is not too surprising, as having more financial resources allows for more expensive actors to be hired, better equipment to be purchased, and more film to be shot to ensure the highest quality results."
   ]
  },
  {
   "cell_type": "markdown",
   "metadata": {},
   "source": [
    "### Research Question 4: What months and parts of the year do movies have the highest revenue?"
   ]
  },
  {
   "cell_type": "markdown",
   "metadata": {},
   "source": [
    "### 17. Group by release month and get the average adjusted revenue for each month, and then  plot the results."
   ]
  },
  {
   "cell_type": "markdown",
   "metadata": {},
   "source": [
    "To do this analysis, we're going to work the the revenue_adj column, so all movies are considered equally. As mentioned in the column descriptions table, the revenue_adj data consideres all movie budget data in terms of 2010 dollars, accounting for inflation over time."
   ]
  },
  {
   "cell_type": "markdown",
   "metadata": {},
   "source": [
    "We'll group by the release month and get the average adjusted revenue for each month, sort the results, and then create a bar chart for the months in order."
   ]
  },
  {
   "cell_type": "code",
   "execution_count": 150,
   "metadata": {},
   "outputs": [
    {
     "data": {
      "text/html": [
       "<div>\n",
       "<style scoped>\n",
       "    .dataframe tbody tr th:only-of-type {\n",
       "        vertical-align: middle;\n",
       "    }\n",
       "\n",
       "    .dataframe tbody tr th {\n",
       "        vertical-align: top;\n",
       "    }\n",
       "\n",
       "    .dataframe thead th {\n",
       "        text-align: right;\n",
       "    }\n",
       "</style>\n",
       "<table border=\"1\" class=\"dataframe\">\n",
       "  <thead>\n",
       "    <tr style=\"text-align: right;\">\n",
       "      <th></th>\n",
       "      <th>release_month</th>\n",
       "      <th>revenue_adj</th>\n",
       "    </tr>\n",
       "  </thead>\n",
       "  <tbody>\n",
       "    <tr>\n",
       "      <th>11</th>\n",
       "      <td>12</td>\n",
       "      <td>83493057786.48</td>\n",
       "    </tr>\n",
       "    <tr>\n",
       "      <th>5</th>\n",
       "      <td>6</td>\n",
       "      <td>80713223165.01</td>\n",
       "    </tr>\n",
       "    <tr>\n",
       "      <th>4</th>\n",
       "      <td>5</td>\n",
       "      <td>61683364497.60</td>\n",
       "    </tr>\n",
       "    <tr>\n",
       "      <th>6</th>\n",
       "      <td>7</td>\n",
       "      <td>58560370450.21</td>\n",
       "    </tr>\n",
       "    <tr>\n",
       "      <th>10</th>\n",
       "      <td>11</td>\n",
       "      <td>58498077766.77</td>\n",
       "    </tr>\n",
       "    <tr>\n",
       "      <th>2</th>\n",
       "      <td>3</td>\n",
       "      <td>40691921843.37</td>\n",
       "    </tr>\n",
       "    <tr>\n",
       "      <th>9</th>\n",
       "      <td>10</td>\n",
       "      <td>38445186532.90</td>\n",
       "    </tr>\n",
       "    <tr>\n",
       "      <th>7</th>\n",
       "      <td>8</td>\n",
       "      <td>32559895371.69</td>\n",
       "    </tr>\n",
       "    <tr>\n",
       "      <th>3</th>\n",
       "      <td>4</td>\n",
       "      <td>31653858380.24</td>\n",
       "    </tr>\n",
       "    <tr>\n",
       "      <th>8</th>\n",
       "      <td>9</td>\n",
       "      <td>30957858018.37</td>\n",
       "    </tr>\n",
       "    <tr>\n",
       "      <th>1</th>\n",
       "      <td>2</td>\n",
       "      <td>23452337402.86</td>\n",
       "    </tr>\n",
       "    <tr>\n",
       "      <th>0</th>\n",
       "      <td>1</td>\n",
       "      <td>17415052893.37</td>\n",
       "    </tr>\n",
       "  </tbody>\n",
       "</table>\n",
       "</div>"
      ],
      "text/plain": [
       "    release_month    revenue_adj\n",
       "11             12 83493057786.48\n",
       "5               6 80713223165.01\n",
       "4               5 61683364497.60\n",
       "6               7 58560370450.21\n",
       "10             11 58498077766.77\n",
       "2               3 40691921843.37\n",
       "9              10 38445186532.90\n",
       "7               8 32559895371.69\n",
       "3               4 31653858380.24\n",
       "8               9 30957858018.37\n",
       "1               2 23452337402.86\n",
       "0               1 17415052893.37"
      ]
     },
     "execution_count": 150,
     "metadata": {},
     "output_type": "execute_result"
    }
   ],
   "source": [
    "revenue_monthly = with_revenue.groupby('release_month', as_index=False).revenue_adj.sum()\n",
    "revenue_monthly.sort_values('revenue_adj', ascending=False)"
   ]
  },
  {
   "cell_type": "markdown",
   "metadata": {},
   "source": [
    "Revenues for the month of december are highest on average, while for January they are the lowest. Below we'll display a bar chart with the monthly average throughout the year to see the peaks and valleys of movie attendance."
   ]
  },
  {
   "cell_type": "code",
   "execution_count": 151,
   "metadata": {},
   "outputs": [
    {
     "data": {
      "image/png": "[encoded data removed]",
      "text/plain": [
       "<Figure size 432x288 with 1 Axes>"
      ]
     },
     "metadata": {},
     "output_type": "display_data"
    }
   ],
   "source": [
    "release_months = revenue_monthly.release_month\n",
    "monthly_revenue = revenue_monthly.revenue_adj\n",
    "plt.bar(release_months, monthly_revenue, tick_label=['Jan', 'Feb', 'March', 'April', 'May', 'June', 'July', 'Aug', 'Sept', 'Oct', 'Nov', 'Dec'])\n",
    "plt.title('Average Monthly Revenue')\n",
    "plt.xlabel('Month')\n",
    "plt.ylabel('Revenue In Billions');"
   ]
  },
  {
   "cell_type": "markdown",
   "metadata": {},
   "source": [
    "May through July and the holiday season appear to be the most popular times for moviegoers, at least in terms of revenue."
   ]
  },
  {
   "cell_type": "markdown",
   "metadata": {},
   "source": [
    "<a id='conclusions'></a>\n",
    "## Conclusions"
   ]
  },
  {
   "cell_type": "markdown",
   "metadata": {},
   "source": [
    "Above we analyzed whether movie genres, runtime, and budgets have an affect on ratings,  and which months movie releases bring in the most revenue. \n",
    "\n",
    "For movie ratings we learned several things:\n",
    "-\tWhile the Documentary genre received the highest average ratings, it also received some of the fewest votes of any genre. Perhaps movies could be weighted based on their number of votes to get a better sense of genre popularity. \n",
    "-\tLonger movies had better ratings than shorter movies. We can make some assumptions that longer movies likely meant the budget was higher, which could mean that better actors and better equipment was used, but we need more information to make better conclusions. \n",
    "-\tMovies with higher budgets had better ratings than movies with lower budgets. As mentioned in #2, did budget may have affected ratings because a higher budget might also influence movie length, actors hired, equipment, marketing, and other factors.\n",
    "\n",
    "For revenue we learned that:\n",
    "-\tCertain months and times of year bring in the most movie revenue. What is it about these time periods that increases the revenue? In Summer months the weather is nicest outside, so why is it so popular for moviegoers? Maybe weather is a factor, because roads are safer? Movies around the holidays are heavily advertised, which may explain some of the popularity there, and it’s also a time of year when families are together, which might result in them wanting to see a movie together.\n",
    "\n",
    "While we drew some conclusions based on our results, our analysis led to more questions that could be answered to better understand what combination of variables have the most influence on the dependent variables of ratings and revenue. "
   ]
  },
  {
   "cell_type": "markdown",
   "metadata": {},
   "source": [
    "<a id='resources'></a>\n",
    "## Resources"
   ]
  },
  {
   "cell_type": "markdown",
   "metadata": {},
   "source": [
    "Throughout this analysis several resources were used to help analyze data and answer quetions. Along with Udacity course material, the following links were used:\n",
    "\n",
    "http://www.tablesgenerator.com/markdown_tables for the column description table\n",
    "\n",
    "https://stackoverflow.com/questions/41328633/how-do-i-print-entire-number-in-python-from-describe-function for numerical data formatting\n",
    "\n",
    "https://stackoverflow.com/questions/51102615/get-month-from-date-column to extract month from datetime\n",
    "\n",
    "https://stackoverflow.com/questions/30482071/how-to-calculate-mean-values-grouped-on-another-column-in-pandas for answering question 1, to add as_index=False to groupby so can sort by vote_average column\n",
    "\n",
    "https://seaborn.pydata.org/tutorial/aesthetics.html used for changing to dark grid in question 1\n",
    "\n",
    "https://pandas.pydata.org/pandas-docs/stable/reference/api/pandas.DataFrame.sort_values.html used in multiple areas to sort data\n"
   ]
  }
 ],
 "metadata": {
  "kernelspec": {
   "display_name": "Python 3",
   "language": "python",
   "name": "python3"
  },
  "language_info": {
   "codemirror_mode": {
    "name": "ipython",
    "version": 3
   },
   "file_extension": ".py",
   "mimetype": "text/x-python",
   "name": "python",
   "nbconvert_exporter": "python",
   "pygments_lexer": "ipython3",
   "version": "3.7.5"
  }
 },
 "nbformat": 4,
 "nbformat_minor": 2
}
